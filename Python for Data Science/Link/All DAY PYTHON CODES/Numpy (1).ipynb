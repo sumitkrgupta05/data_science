{
 "cells": [
  {
   "cell_type": "code",
   "execution_count": 1,
   "id": "8526f53a-5685-433a-a198-06991c26fc6e",
   "metadata": {},
   "outputs": [],
   "source": [
    "a = round(3.19 +3.19 + 3.19+3.19 +3.19 + 3.19 +3.19 +3.19 , 2)\n",
    "b = 3.19 *8"
   ]
  },
  {
   "cell_type": "code",
   "execution_count": 2,
   "id": "18e484ca-faf1-4a93-953f-969e4065c229",
   "metadata": {},
   "outputs": [
    {
     "name": "stdout",
     "output_type": "stream",
     "text": [
      "25.52\n",
      "25.52\n"
     ]
    }
   ],
   "source": [
    "print(a)\n",
    "print(b)"
   ]
  },
  {
   "cell_type": "code",
   "execution_count": 3,
   "id": "84172f8a-993b-4810-a710-63c66d2e4b8a",
   "metadata": {},
   "outputs": [
    {
     "data": {
      "text/plain": [
       "True"
      ]
     },
     "execution_count": 3,
     "metadata": {},
     "output_type": "execute_result"
    }
   ],
   "source": [
    "a==b"
   ]
  },
  {
   "cell_type": "code",
   "execution_count": 4,
   "id": "45a150ce-ff05-4729-a51f-2f2bf6f9242a",
   "metadata": {},
   "outputs": [
    {
     "name": "stdout",
     "output_type": "stream",
     "text": [
      "12.76\n",
      "12.76\n"
     ]
    }
   ],
   "source": [
    "x=3.19 +3.19 + 3.19+3.19\n",
    "y=3.19 *4\n",
    "print(x)\n",
    "print(y)"
   ]
  },
  {
   "cell_type": "code",
   "execution_count": 5,
   "id": "c9f8d015-784a-4950-8f1c-582bf9a0c73e",
   "metadata": {},
   "outputs": [
    {
     "data": {
      "text/plain": [
       "True"
      ]
     },
     "execution_count": 5,
     "metadata": {},
     "output_type": "execute_result"
    }
   ],
   "source": [
    "x==y"
   ]
  },
  {
   "cell_type": "code",
   "execution_count": 6,
   "id": "1ee0596b-dc0b-45ba-b0ea-390af6a9344c",
   "metadata": {},
   "outputs": [],
   "source": [
    "f  = open('test.txt', 'w+')\n",
    "print(\"Simplilearn\", file = f)\n",
    "f.close()"
   ]
  },
  {
   "cell_type": "markdown",
   "id": "cc6b00ff-3acc-4cf2-adea-8619d0ad4d5e",
   "metadata": {},
   "source": [
    "#### Agenda:\n",
    "\n",
    "- Fundamentals of Numpy\n",
    "    * Advantages\n",
    "    * Installation\n",
    "- Array \n",
    "    `* Creating Numpy array"
   ]
  },
  {
   "cell_type": "markdown",
   "id": "6e08f6e5-c2e2-49ae-b912-f73bdffdca2e",
   "metadata": {},
   "source": [
    "Numpy is an opensource  librarry that is primarily used for mathematical and scientific calculations. it allows the usage of Arras which are not available as data structure in python core modules"
   ]
  },
  {
   "cell_type": "code",
   "execution_count": 7,
   "id": "f89010d7-81d2-44b2-b8fe-3b4e5b877a11",
   "metadata": {},
   "outputs": [
    {
     "name": "stdout",
     "output_type": "stream",
     "text": [
      "Defaulting to user installation because normal site-packages is not writeable\n",
      "Requirement already satisfied: numpy in /usr/local/lib/python3.10/site-packages (1.23.5)\n",
      "\n",
      "\u001b[1m[\u001b[0m\u001b[34;49mnotice\u001b[0m\u001b[1;39;49m]\u001b[0m\u001b[39;49m A new release of pip is available: \u001b[0m\u001b[31;49m23.3\u001b[0m\u001b[39;49m -> \u001b[0m\u001b[32;49m24.0\u001b[0m\n",
      "\u001b[1m[\u001b[0m\u001b[34;49mnotice\u001b[0m\u001b[1;39;49m]\u001b[0m\u001b[39;49m To update, run: \u001b[0m\u001b[32;49mpip install --upgrade pip\u001b[0m\n"
     ]
    }
   ],
   "source": [
    "#Install Numpy\n",
    "\n",
    "!pip install numpy"
   ]
  },
  {
   "cell_type": "code",
   "execution_count": 8,
   "id": "ac88f9d4-88a1-44c9-b88b-84086f2570da",
   "metadata": {},
   "outputs": [],
   "source": [
    "# Importing numpy"
   ]
  },
  {
   "cell_type": "code",
   "execution_count": 9,
   "id": "e1294e60-b3a7-4fa2-ac98-d192965c0f5d",
   "metadata": {},
   "outputs": [],
   "source": [
    "import numpy as np"
   ]
  },
  {
   "cell_type": "code",
   "execution_count": 10,
   "id": "64b8b6f7-362b-4e5f-b650-d9c307bff5d6",
   "metadata": {},
   "outputs": [],
   "source": [
    "a =  np.array([10,20,30,40.5])"
   ]
  },
  {
   "cell_type": "code",
   "execution_count": 11,
   "id": "e83679e4-1b83-4437-9784-64520483dd09",
   "metadata": {},
   "outputs": [
    {
     "name": "stdout",
     "output_type": "stream",
     "text": [
      "[10.  20.  30.  40.5]\n"
     ]
    }
   ],
   "source": [
    "print(a)"
   ]
  },
  {
   "cell_type": "code",
   "execution_count": 12,
   "id": "bd89c0d7-250e-4f7e-bc37-441408bdb593",
   "metadata": {},
   "outputs": [
    {
     "name": "stdout",
     "output_type": "stream",
     "text": [
      "[10, 20, 30, 40.5]\n"
     ]
    }
   ],
   "source": [
    "b = [10,20,30,40.5]\n",
    "print(b)"
   ]
  },
  {
   "cell_type": "code",
   "execution_count": 13,
   "id": "fed57e2b-6654-44bf-8011-15f5b6492b03",
   "metadata": {},
   "outputs": [
    {
     "name": "stdout",
     "output_type": "stream",
     "text": [
      "<class 'numpy.ndarray'>\n"
     ]
    }
   ],
   "source": [
    "print(type(a))"
   ]
  },
  {
   "cell_type": "code",
   "execution_count": 14,
   "id": "6bb83462-fabc-473f-89b5-12762b510209",
   "metadata": {},
   "outputs": [
    {
     "name": "stdout",
     "output_type": "stream",
     "text": [
      "<class 'list'>\n"
     ]
    }
   ],
   "source": [
    "print(type(b))"
   ]
  },
  {
   "cell_type": "code",
   "execution_count": 15,
   "id": "b47bdad4-c04c-4c5a-a272-f4ab6a9c2f85",
   "metadata": {},
   "outputs": [
    {
     "name": "stdout",
     "output_type": "stream",
     "text": [
      "140610318527792\n",
      "140610318526576\n",
      "140610318527600\n",
      "140610318527600\n"
     ]
    }
   ],
   "source": [
    "print(id(a[0]))\n",
    "print(id(a[1]))\n",
    "print(id(a[2]))\n",
    "print(id(a[3]))"
   ]
  },
  {
   "cell_type": "code",
   "execution_count": 16,
   "id": "d45c5eff-99fe-46e6-b4fb-fc4a2b58993f",
   "metadata": {},
   "outputs": [
    {
     "name": "stdout",
     "output_type": "stream",
     "text": [
      "140610995864080\n",
      "140610995864400\n",
      "140610995864720\n",
      "140610318526544\n"
     ]
    }
   ],
   "source": [
    "print(id(b[0]))\n",
    "print(id(b[1]))\n",
    "print(id(b[2]))\n",
    "print(id(b[3]))"
   ]
  },
  {
   "cell_type": "code",
   "execution_count": 18,
   "id": "e92efedd-cc11-4cd9-903e-99465b9a5be4",
   "metadata": {},
   "outputs": [],
   "source": [
    "import numpy as np\n",
    "import time # using for capturingting the epoch(unix) time -  time is seconds/ms elasped sinch epoch( Jan 1st 1970 00:00:00)"
   ]
  },
  {
   "cell_type": "code",
   "execution_count": 19,
   "id": "febfdd55-b58c-4bb9-abe8-ab209d693aa4",
   "metadata": {},
   "outputs": [
    {
     "data": {
      "text/plain": [
       "1708527033.5490918"
      ]
     },
     "execution_count": 19,
     "metadata": {},
     "output_type": "execute_result"
    }
   ],
   "source": [
    "time.time()"
   ]
  },
  {
   "cell_type": "code",
   "execution_count": 20,
   "id": "94df21ec-d2b0-4cdb-a476-b14f7dddb11a",
   "metadata": {},
   "outputs": [
    {
     "data": {
      "text/plain": [
       "1708527116.5961807"
      ]
     },
     "execution_count": 20,
     "metadata": {},
     "output_type": "execute_result"
    }
   ],
   "source": [
    "time.time()"
   ]
  },
  {
   "cell_type": "code",
   "execution_count": 21,
   "id": "6be6017f-e57a-46a5-8316-550e3cbb0c66",
   "metadata": {},
   "outputs": [
    {
     "data": {
      "text/plain": [
       "83.04708886146545"
      ]
     },
     "execution_count": 21,
     "metadata": {},
     "output_type": "execute_result"
    }
   ],
   "source": [
    "1708527116.5961807 - 1708527033.5490918"
   ]
  },
  {
   "cell_type": "code",
   "execution_count": 22,
   "id": "ee4b4c7e-0e31-49cb-91ae-621609cfd0b2",
   "metadata": {},
   "outputs": [],
   "source": [
    "X = np.random.rand(100000000)"
   ]
  },
  {
   "cell_type": "code",
   "execution_count": 23,
   "id": "9616a496-8385-44fc-92e0-579991fea917",
   "metadata": {},
   "outputs": [
    {
     "name": "stdout",
     "output_type": "stream",
     "text": [
      "5.56976580619812\n"
     ]
    }
   ],
   "source": [
    "start = time.time()\n",
    "avg = sum(X)/100000000\n",
    "stop = time.time()\n",
    "print(stop-start)"
   ]
  },
  {
   "cell_type": "code",
   "execution_count": 24,
   "id": "ea053e8e-4a80-4f88-998d-f00457008220",
   "metadata": {},
   "outputs": [
    {
     "name": "stdout",
     "output_type": "stream",
     "text": [
      "0.0484929084777832\n"
     ]
    }
   ],
   "source": [
    "start = time.time()\n",
    "avgnp = np.mean(X)\n",
    "stop = time.time()\n",
    "print(stop-start)"
   ]
  },
  {
   "cell_type": "raw",
   "id": "98de59f3-4eb4-4e32-b5a4-baddfb03c4d2",
   "metadata": {},
   "source": [
    "# Array - It is a collection of homogeneous data with contiguos memory allocation. arrays can be any dimension. array are termed as ndarray in python. "
   ]
  },
  {
   "cell_type": "code",
   "execution_count": 25,
   "id": "4c507b6c-a02b-44a9-a0ac-7963a3ade889",
   "metadata": {},
   "outputs": [],
   "source": [
    "# Create Array - Syntax is \n",
    "# numpy.array(<lists>)"
   ]
  },
  {
   "cell_type": "code",
   "execution_count": 26,
   "id": "3e716bc9-d1c8-48fd-aa56-c73b38c0b96a",
   "metadata": {},
   "outputs": [
    {
     "name": "stdout",
     "output_type": "stream",
     "text": [
      "34\n",
      "0\n"
     ]
    }
   ],
   "source": [
    "# Create 0darray\n",
    "X = np.array(34)\n",
    "print(X)\n",
    "print(X.ndim)"
   ]
  },
  {
   "cell_type": "code",
   "execution_count": 28,
   "id": "46afc326-33fb-4826-9b36-5e20c3bfe422",
   "metadata": {},
   "outputs": [
    {
     "name": "stdout",
     "output_type": "stream",
     "text": [
      "[1 2 3 4 5]\n",
      "1\n"
     ]
    }
   ],
   "source": [
    "# Create 1darray\n",
    "X = np.array([1,2,3,4,5])\n",
    "print(X)\n",
    "print(X.ndim)"
   ]
  },
  {
   "cell_type": "code",
   "execution_count": 30,
   "id": "976e7472-ac25-458f-975a-a84246e13147",
   "metadata": {},
   "outputs": [
    {
     "name": "stdout",
     "output_type": "stream",
     "text": [
      "[[ 1  2  3  4  5]\n",
      " [11 12 13 14 15]]\n",
      "2\n"
     ]
    }
   ],
   "source": [
    "# Create 2darray\n",
    "X = np.array([[1,2,3,4,5], [11,12,13,14,15]])\n",
    "print(X)\n",
    "print(X.ndim)"
   ]
  },
  {
   "cell_type": "code",
   "execution_count": 31,
   "id": "5e6619dd-b339-4f7d-bddb-105c510b0db0",
   "metadata": {},
   "outputs": [
    {
     "name": "stdout",
     "output_type": "stream",
     "text": [
      "[[[ 1  2  3  4  5]\n",
      "  [11 12 13 14 15]]\n",
      "\n",
      " [[ 1  2  3  4  5]\n",
      "  [11 12 13 14 15]]]\n",
      "3\n"
     ]
    }
   ],
   "source": [
    "# Create 2darray\n",
    "X = np.array([[[1,2,3,4,5], [11,12,13,14,15]], [[1,2,3,4,5], [11,12,13,14,15]]])\n",
    "print(X)\n",
    "print(X.ndim)"
   ]
  },
  {
   "cell_type": "code",
   "execution_count": null,
   "id": "052bb1e8-d1e6-4a3b-af0b-857fa785bcff",
   "metadata": {},
   "outputs": [],
   "source": []
  },
  {
   "cell_type": "code",
   "execution_count": 32,
   "id": "d0a07d11-d0af-4c10-be64-963de547cec8",
   "metadata": {},
   "outputs": [
    {
     "name": "stdout",
     "output_type": "stream",
     "text": [
      "[[1 2]\n",
      " [2 3]\n",
      " [3 4]]\n"
     ]
    }
   ],
   "source": [
    "X =  np.array([[1,2], [2,3], [3,4]])\n",
    "print(X)"
   ]
  },
  {
   "cell_type": "code",
   "execution_count": 45,
   "id": "651c68f8-fa92-4f84-899a-090b266bca8e",
   "metadata": {},
   "outputs": [],
   "source": [
    "Y = np.array([[1,2,3,4]])"
   ]
  },
  {
   "cell_type": "code",
   "execution_count": 44,
   "id": "2ef1cd6f-0f2c-4391-abc0-784251617fd5",
   "metadata": {},
   "outputs": [
    {
     "data": {
      "text/plain": [
       "2"
      ]
     },
     "execution_count": 44,
     "metadata": {},
     "output_type": "execute_result"
    }
   ],
   "source": [
    "Y.ndim"
   ]
  },
  {
   "cell_type": "code",
   "execution_count": 46,
   "id": "5906cba7-a0dc-4a4b-ae82-ff16b726a8b4",
   "metadata": {},
   "outputs": [
    {
     "name": "stdout",
     "output_type": "stream",
     "text": [
      "[[1 2 3 4]]\n"
     ]
    }
   ],
   "source": [
    "print(Y)"
   ]
  },
  {
   "cell_type": "code",
   "execution_count": 47,
   "id": "6b2dbdeb-4c0c-44c4-b397-f8734e817b9f",
   "metadata": {},
   "outputs": [],
   "source": [
    "# Attributes and Functions"
   ]
  },
  {
   "cell_type": "code",
   "execution_count": 48,
   "id": "c3ab1945-d392-4a38-a503-3fbfe50ff9fa",
   "metadata": {},
   "outputs": [],
   "source": [
    "array1 = np.array([[1,2,3], [11,12,13]])"
   ]
  },
  {
   "cell_type": "code",
   "execution_count": 50,
   "id": "c686816c-3325-40d9-a381-72193aa248b8",
   "metadata": {},
   "outputs": [
    {
     "name": "stdout",
     "output_type": "stream",
     "text": [
      "[[ 1  2  3]\n",
      " [11 12 13]]\n",
      "No of dimensions :  2\n",
      "Shape of array :  (2, 3)\n",
      "Size of array :  6\n",
      "datatype of array elements:  int64\n",
      "length  of one array element in memory in bytes:  8\n"
     ]
    }
   ],
   "source": [
    "array1 = np.array([[1,2,3], [11,12,13]])\n",
    "print(array1)\n",
    "print(\"No of dimensions : \", array1.ndim)\n",
    "print(\"Shape of array : \", array1.shape)\n",
    "print(\"Size of array : \", array1.size)\n",
    "print(\"datatype of array elements: \", array1.dtype)\n",
    "print(\"length  of one array element in memory in bytes: \", array1.itemsize)"
   ]
  },
  {
   "cell_type": "code",
   "execution_count": 51,
   "id": "42dbf143-01e5-4251-9d95-b85be920a03c",
   "metadata": {},
   "outputs": [
    {
     "name": "stdout",
     "output_type": "stream",
     "text": [
      "[[[ 1  2  3]\n",
      "  [11 12 13]]]\n",
      "No of dimensions :  3\n",
      "Shape of array :  (1, 2, 3)\n",
      "Size of array :  6\n",
      "datatype of array elements:  int64\n",
      "length  of one array element in memory in bytes:  8\n"
     ]
    }
   ],
   "source": [
    "array2 = np.array([[[1,2,3], [11,12,13]]])\n",
    "print(array2)\n",
    "print(\"No of dimensions : \", array2.ndim)\n",
    "print(\"Shape of array : \", array2.shape)\n",
    "print(\"Size of array : \", array2.size)\n",
    "print(\"datatype of array elements: \", array2.dtype)\n",
    "print(\"length  of one array element in memory in bytes: \", array2.itemsize)"
   ]
  },
  {
   "cell_type": "code",
   "execution_count": 52,
   "id": "3b94f596-0367-4b44-9fdc-f08a54245616",
   "metadata": {},
   "outputs": [],
   "source": [
    "array3 = np.array([[[1,2,3,4,5], [11,12,13,14,15]], [[1,2,3,4,5], [11,12,13,14,15]]])"
   ]
  },
  {
   "cell_type": "code",
   "execution_count": 53,
   "id": "919b0268-1713-4ed6-bb6d-39652cec01ba",
   "metadata": {},
   "outputs": [
    {
     "name": "stdout",
     "output_type": "stream",
     "text": [
      "(2, 2, 5)\n"
     ]
    }
   ],
   "source": [
    "print(array3.shape)"
   ]
  },
  {
   "cell_type": "code",
   "execution_count": 54,
   "id": "6bdb55e6-aa08-4b71-9224-4e24a07ef439",
   "metadata": {},
   "outputs": [
    {
     "name": "stdout",
     "output_type": "stream",
     "text": [
      "[[[ 1  2  3  4  5]\n",
      "  [11 12 13 14 15]]\n",
      "\n",
      " [[ 1  2  3  4  5]\n",
      "  [11 12 13 14 15]]]\n"
     ]
    }
   ],
   "source": [
    "print(array3)"
   ]
  },
  {
   "cell_type": "code",
   "execution_count": 58,
   "id": "4ee355e2-360d-473f-9635-c1e58c7719e2",
   "metadata": {},
   "outputs": [],
   "source": [
    "array4 = np.arange(1,28).reshape(3,3,3)"
   ]
  },
  {
   "cell_type": "code",
   "execution_count": 59,
   "id": "52b36a55-73f3-4ed6-80c2-e11aa9a27ab1",
   "metadata": {},
   "outputs": [
    {
     "name": "stdout",
     "output_type": "stream",
     "text": [
      "[[[ 1  2  3]\n",
      "  [ 4  5  6]\n",
      "  [ 7  8  9]]\n",
      "\n",
      " [[10 11 12]\n",
      "  [13 14 15]\n",
      "  [16 17 18]]\n",
      "\n",
      " [[19 20 21]\n",
      "  [22 23 24]\n",
      "  [25 26 27]]]\n"
     ]
    }
   ],
   "source": [
    "print(array4)"
   ]
  },
  {
   "cell_type": "code",
   "execution_count": 57,
   "id": "4da1bded-5164-4c22-9f6b-1e3312da4d51",
   "metadata": {},
   "outputs": [
    {
     "data": {
      "text/plain": [
       "(3, 3, 3)"
      ]
     },
     "execution_count": 57,
     "metadata": {},
     "output_type": "execute_result"
    }
   ],
   "source": [
    "array4.shape"
   ]
  },
  {
   "cell_type": "code",
   "execution_count": 60,
   "id": "474cb69f-a20b-47af-8134-49f08ee2fa8c",
   "metadata": {},
   "outputs": [],
   "source": [
    "# Basic Functions"
   ]
  },
  {
   "cell_type": "code",
   "execution_count": 61,
   "id": "01ee73c7-65d5-4f07-8dde-f3c47d671b11",
   "metadata": {},
   "outputs": [],
   "source": [
    "#reshape\n",
    "arr = np.array([1,2,3,4,5,6,7,8,9,10,11,12])"
   ]
  },
  {
   "cell_type": "code",
   "execution_count": 62,
   "id": "91ea9297-27a5-421b-92c6-af87b1b0eec4",
   "metadata": {},
   "outputs": [
    {
     "data": {
      "text/plain": [
       "(12,)"
      ]
     },
     "execution_count": 62,
     "metadata": {},
     "output_type": "execute_result"
    }
   ],
   "source": [
    "arr.shape"
   ]
  },
  {
   "cell_type": "code",
   "execution_count": 65,
   "id": "ca790807-e146-4f8a-8595-d3e4afce9f33",
   "metadata": {},
   "outputs": [],
   "source": [
    "newarr = arr.reshape(2,3,2)"
   ]
  },
  {
   "cell_type": "code",
   "execution_count": 66,
   "id": "4d1e563d-711b-4783-84b4-1d015c716d66",
   "metadata": {},
   "outputs": [
    {
     "data": {
      "text/plain": [
       "array([[[ 1,  2],\n",
       "        [ 3,  4],\n",
       "        [ 5,  6]],\n",
       "\n",
       "       [[ 7,  8],\n",
       "        [ 9, 10],\n",
       "        [11, 12]]])"
      ]
     },
     "execution_count": 66,
     "metadata": {},
     "output_type": "execute_result"
    }
   ],
   "source": [
    "newarr"
   ]
  },
  {
   "cell_type": "code",
   "execution_count": 68,
   "id": "3828701f-830c-402d-8276-9ff420883327",
   "metadata": {},
   "outputs": [],
   "source": [
    "newarr = newarr.reshape(4,3)"
   ]
  },
  {
   "cell_type": "code",
   "execution_count": 71,
   "id": "d4241f2c-38ab-4559-824f-3059abd6b36f",
   "metadata": {},
   "outputs": [
    {
     "name": "stdout",
     "output_type": "stream",
     "text": [
      "[[ 1  2  3]\n",
      " [ 4  5  6]\n",
      " [ 7  8  9]\n",
      " [10 11 12]]\n"
     ]
    }
   ],
   "source": [
    "print(newarr)"
   ]
  },
  {
   "cell_type": "code",
   "execution_count": 70,
   "id": "f8cdcc83-35be-431e-9f94-4ae955e08024",
   "metadata": {},
   "outputs": [
    {
     "data": {
      "text/plain": [
       "array([ 1,  2,  3,  4,  5,  6,  7,  8,  9, 10, 11, 12])"
      ]
     },
     "execution_count": 70,
     "metadata": {},
     "output_type": "execute_result"
    }
   ],
   "source": [
    "newarr.reshape(12,)"
   ]
  },
  {
   "cell_type": "code",
   "execution_count": 72,
   "id": "42bb6fcd-5f6d-482a-b2c4-d6d5355cf81a",
   "metadata": {},
   "outputs": [
    {
     "data": {
      "text/plain": [
       "array([[ 1,  2,  3,  4,  5,  6,  7,  8,  9, 10, 11, 12]])"
      ]
     },
     "execution_count": 72,
     "metadata": {},
     "output_type": "execute_result"
    }
   ],
   "source": [
    "newarr.reshape(1,12)"
   ]
  },
  {
   "cell_type": "code",
   "execution_count": 73,
   "id": "f148765f-98b7-4285-aa31-54d4d24322a0",
   "metadata": {},
   "outputs": [
    {
     "data": {
      "text/plain": [
       "array([ 1,  4,  7, 10,  2,  5,  8, 11,  3,  6,  9, 12])"
      ]
     },
     "execution_count": 73,
     "metadata": {},
     "output_type": "execute_result"
    }
   ],
   "source": [
    "np.ravel(newarr, order = 'F') # Fortran Based Access"
   ]
  },
  {
   "cell_type": "code",
   "execution_count": 74,
   "id": "495fc827-34ee-4d7e-85cc-b50a64939098",
   "metadata": {},
   "outputs": [
    {
     "data": {
      "text/plain": [
       "array([ 1,  2,  3,  4,  5,  6,  7,  8,  9, 10, 11, 12])"
      ]
     },
     "execution_count": 74,
     "metadata": {},
     "output_type": "execute_result"
    }
   ],
   "source": [
    "np.ravel(newarr, order = 'C') # C Based Access"
   ]
  },
  {
   "cell_type": "code",
   "execution_count": 75,
   "id": "005bb4bc-dadb-4ef9-89ba-c2162c6157b8",
   "metadata": {},
   "outputs": [
    {
     "data": {
      "text/plain": [
       "(4, 3)"
      ]
     },
     "execution_count": 75,
     "metadata": {},
     "output_type": "execute_result"
    }
   ],
   "source": [
    "newarr.shape"
   ]
  },
  {
   "cell_type": "code",
   "execution_count": 76,
   "id": "4781c9a3-b129-475b-8676-5532827a7304",
   "metadata": {},
   "outputs": [
    {
     "data": {
      "text/plain": [
       "array([ 1,  2,  3,  4,  5,  6,  7,  8,  9, 10, 11, 12])"
      ]
     },
     "execution_count": 76,
     "metadata": {},
     "output_type": "execute_result"
    }
   ],
   "source": [
    "newarr.flatten()"
   ]
  },
  {
   "cell_type": "code",
   "execution_count": 77,
   "id": "40d857d3-6724-45b4-9d4b-734f8c3ff2f2",
   "metadata": {},
   "outputs": [],
   "source": [
    "# Transpose"
   ]
  },
  {
   "cell_type": "code",
   "execution_count": 78,
   "id": "27a2d4ee-fc27-41b8-8f0f-3c493c64e26d",
   "metadata": {},
   "outputs": [
    {
     "data": {
      "text/plain": [
       "array([[ 1,  4,  7, 10],\n",
       "       [ 2,  5,  8, 11],\n",
       "       [ 3,  6,  9, 12]])"
      ]
     },
     "execution_count": 78,
     "metadata": {},
     "output_type": "execute_result"
    }
   ],
   "source": [
    "newarr.T"
   ]
  },
  {
   "cell_type": "code",
   "execution_count": 79,
   "id": "9f35841a-a707-4cfb-9486-818195d60762",
   "metadata": {},
   "outputs": [
    {
     "data": {
      "text/plain": [
       "array([[ 1,  4,  7, 10],\n",
       "       [ 2,  5,  8, 11],\n",
       "       [ 3,  6,  9, 12]])"
      ]
     },
     "execution_count": 79,
     "metadata": {},
     "output_type": "execute_result"
    }
   ],
   "source": [
    "newarr.transpose()"
   ]
  },
  {
   "cell_type": "code",
   "execution_count": 80,
   "id": "9b1daef6-abae-4a91-a5d6-9811974d05fc",
   "metadata": {},
   "outputs": [],
   "source": [
    "# Arithmetic, statistical , string ops in numpy"
   ]
  },
  {
   "cell_type": "code",
   "execution_count": 81,
   "id": "e7de07fd-7347-4fc3-a195-85b93a3d8bb1",
   "metadata": {},
   "outputs": [],
   "source": [
    "# Arithmetic OPerations -  are done one element wise basis"
   ]
  },
  {
   "cell_type": "code",
   "execution_count": 82,
   "id": "c834d7bf-4586-4136-a1f5-2911bff9ac61",
   "metadata": {},
   "outputs": [],
   "source": [
    "a = np.array([10,20,30])\n",
    "b = np.array([2,4,5])"
   ]
  },
  {
   "cell_type": "code",
   "execution_count": 83,
   "id": "c78387b2-4a39-4a79-8b60-b2391e7289e8",
   "metadata": {},
   "outputs": [
    {
     "data": {
      "text/plain": [
       "array([12, 24, 35])"
      ]
     },
     "execution_count": 83,
     "metadata": {},
     "output_type": "execute_result"
    }
   ],
   "source": [
    "a+b"
   ]
  },
  {
   "cell_type": "code",
   "execution_count": 84,
   "id": "d319b982-a6d9-4415-b8c6-d21dfb6183cc",
   "metadata": {},
   "outputs": [
    {
     "data": {
      "text/plain": [
       "array([12, 24, 35])"
      ]
     },
     "execution_count": 84,
     "metadata": {},
     "output_type": "execute_result"
    }
   ],
   "source": [
    "np.add(a,b)"
   ]
  },
  {
   "cell_type": "code",
   "execution_count": 85,
   "id": "35bc68cf-4362-48cf-a65b-b6e3bde8c506",
   "metadata": {},
   "outputs": [
    {
     "data": {
      "text/plain": [
       "array([ 8, 16, 25])"
      ]
     },
     "execution_count": 85,
     "metadata": {},
     "output_type": "execute_result"
    }
   ],
   "source": [
    "a-b"
   ]
  },
  {
   "cell_type": "code",
   "execution_count": 86,
   "id": "2f23f6fd-735c-4853-8748-185b2123d974",
   "metadata": {},
   "outputs": [
    {
     "data": {
      "text/plain": [
       "array([ 8, 16, 25])"
      ]
     },
     "execution_count": 86,
     "metadata": {},
     "output_type": "execute_result"
    }
   ],
   "source": [
    "np.subtract(a,b)"
   ]
  },
  {
   "cell_type": "code",
   "execution_count": 87,
   "id": "d2cc7d92-9cb7-4586-ac17-11cd86e3c7e6",
   "metadata": {},
   "outputs": [
    {
     "data": {
      "text/plain": [
       "array([ 20,  80, 150])"
      ]
     },
     "execution_count": 87,
     "metadata": {},
     "output_type": "execute_result"
    }
   ],
   "source": [
    "a*b"
   ]
  },
  {
   "cell_type": "code",
   "execution_count": 88,
   "id": "0ae9cc93-5e80-49ce-aad8-9a6dbaf75d9c",
   "metadata": {},
   "outputs": [
    {
     "data": {
      "text/plain": [
       "array([ 20,  80, 150])"
      ]
     },
     "execution_count": 88,
     "metadata": {},
     "output_type": "execute_result"
    }
   ],
   "source": [
    "np.multiply(a,b)"
   ]
  },
  {
   "cell_type": "code",
   "execution_count": 89,
   "id": "4ac55ec7-ea58-4cd6-b3b4-3f22c1289a11",
   "metadata": {},
   "outputs": [
    {
     "data": {
      "text/plain": [
       "array([5., 5., 6.])"
      ]
     },
     "execution_count": 89,
     "metadata": {},
     "output_type": "execute_result"
    }
   ],
   "source": [
    "a/b"
   ]
  },
  {
   "cell_type": "code",
   "execution_count": 90,
   "id": "fc18ac75-664d-408f-bfd2-26eda4659cf1",
   "metadata": {},
   "outputs": [
    {
     "data": {
      "text/plain": [
       "array([5., 5., 6.])"
      ]
     },
     "execution_count": 90,
     "metadata": {},
     "output_type": "execute_result"
    }
   ],
   "source": [
    "np.divide(a,b)"
   ]
  },
  {
   "cell_type": "code",
   "execution_count": 91,
   "id": "ee8e661c-8bfe-4a86-b6d7-159e2228ace5",
   "metadata": {},
   "outputs": [
    {
     "data": {
      "text/plain": [
       "array([     100,   160000, 24300000])"
      ]
     },
     "execution_count": 91,
     "metadata": {},
     "output_type": "execute_result"
    }
   ],
   "source": [
    "a**b"
   ]
  },
  {
   "cell_type": "code",
   "execution_count": 92,
   "id": "b4f6862b-e7c9-4837-a45e-da69a75c8e37",
   "metadata": {},
   "outputs": [
    {
     "data": {
      "text/plain": [
       "array([     100,   160000, 24300000])"
      ]
     },
     "execution_count": 92,
     "metadata": {},
     "output_type": "execute_result"
    }
   ],
   "source": [
    "np.power(a,b)"
   ]
  },
  {
   "cell_type": "code",
   "execution_count": 93,
   "id": "f44b2e28-ac62-48c1-9fa1-aeb5cd822dd2",
   "metadata": {},
   "outputs": [
    {
     "name": "stdout",
     "output_type": "stream",
     "text": [
      "-2.5\n"
     ]
    }
   ],
   "source": [
    "print(-5/2)"
   ]
  },
  {
   "cell_type": "code",
   "execution_count": 94,
   "id": "9f5ed7a4-1ebc-4bed-8749-948d542b90f1",
   "metadata": {},
   "outputs": [
    {
     "name": "stdout",
     "output_type": "stream",
     "text": [
      "-3\n"
     ]
    }
   ],
   "source": [
    "print(-5//2)"
   ]
  },
  {
   "cell_type": "code",
   "execution_count": 95,
   "id": "b6165e3d-1e26-4a8f-a4e9-f7e319393a3f",
   "metadata": {},
   "outputs": [],
   "source": [
    "#  // =  Floor Division -  nearest integer moving towrds negative infinity"
   ]
  },
  {
   "cell_type": "code",
   "execution_count": 96,
   "id": "3377e78b-d713-41cd-8f10-a78b603a9cd3",
   "metadata": {},
   "outputs": [],
   "source": [
    "# Statistical Functions"
   ]
  },
  {
   "cell_type": "code",
   "execution_count": 110,
   "id": "5201bc5d-d3b9-4111-92f1-4a8b9bd03157",
   "metadata": {},
   "outputs": [],
   "source": [
    "ar =  np.array([[34,12,11], [23,56,12],[23,34,2]])"
   ]
  },
  {
   "cell_type": "code",
   "execution_count": 111,
   "id": "0850e0af-86f9-4d19-b4e4-2dfb00f39bbe",
   "metadata": {},
   "outputs": [],
   "source": [
    "# median"
   ]
  },
  {
   "cell_type": "code",
   "execution_count": 112,
   "id": "319f22c6-bc88-4da3-bbda-f4102f35ebb0",
   "metadata": {},
   "outputs": [
    {
     "data": {
      "text/plain": [
       "23.0"
      ]
     },
     "execution_count": 112,
     "metadata": {},
     "output_type": "execute_result"
    }
   ],
   "source": [
    "np.median(ar)"
   ]
  },
  {
   "cell_type": "code",
   "execution_count": 113,
   "id": "77a5254d-b755-43f4-ab2a-2b0ad70f0eda",
   "metadata": {},
   "outputs": [
    {
     "data": {
      "text/plain": [
       "23.0"
      ]
     },
     "execution_count": 113,
     "metadata": {},
     "output_type": "execute_result"
    }
   ],
   "source": [
    "np.percentile(ar, 50)"
   ]
  },
  {
   "cell_type": "code",
   "execution_count": 122,
   "id": "591cd3b4-3f14-4155-9a6d-7d9bab42b2de",
   "metadata": {},
   "outputs": [
    {
     "data": {
      "text/plain": [
       "23.0"
      ]
     },
     "execution_count": 122,
     "metadata": {},
     "output_type": "execute_result"
    }
   ],
   "source": [
    "np.mean(ar)"
   ]
  },
  {
   "cell_type": "code",
   "execution_count": 124,
   "id": "e448454b-c13e-4b63-b576-95bdb29a2f0b",
   "metadata": {},
   "outputs": [
    {
     "data": {
      "text/plain": [
       "15.484759532449246"
      ]
     },
     "execution_count": 124,
     "metadata": {},
     "output_type": "execute_result"
    }
   ],
   "source": [
    "np.std(ar)"
   ]
  },
  {
   "cell_type": "code",
   "execution_count": 125,
   "id": "f34056cc-e157-4460-87df-c6e2d5f146ca",
   "metadata": {},
   "outputs": [
    {
     "data": {
      "text/plain": [
       "239.77777777777777"
      ]
     },
     "execution_count": 125,
     "metadata": {},
     "output_type": "execute_result"
    }
   ],
   "source": [
    "np.var(ar)"
   ]
  },
  {
   "cell_type": "code",
   "execution_count": 126,
   "id": "3ceb5369-b703-4130-93c9-aea6cab1a9fa",
   "metadata": {},
   "outputs": [
    {
     "data": {
      "text/plain": [
       "239.7777777777778"
      ]
     },
     "execution_count": 126,
     "metadata": {},
     "output_type": "execute_result"
    }
   ],
   "source": [
    "15.484759532449246**2"
   ]
  },
  {
   "cell_type": "code",
   "execution_count": 127,
   "id": "d00d6cc2-c0aa-4171-986c-7156c717d0e7",
   "metadata": {},
   "outputs": [],
   "source": [
    "# String Functions"
   ]
  },
  {
   "cell_type": "code",
   "execution_count": null,
   "id": "4e54cc55-98d6-494e-8b99-06b26d6c3ab8",
   "metadata": {},
   "outputs": [],
   "source": []
  }
 ],
 "metadata": {
  "kernelspec": {
   "display_name": "Python 3 [3.10]",
   "language": "python",
   "name": "python3"
  },
  "language_info": {
   "codemirror_mode": {
    "name": "ipython",
    "version": 3
   },
   "file_extension": ".py",
   "mimetype": "text/x-python",
   "name": "python",
   "nbconvert_exporter": "python",
   "pygments_lexer": "ipython3",
   "version": "3.10.2"
  }
 },
 "nbformat": 4,
 "nbformat_minor": 5
}
