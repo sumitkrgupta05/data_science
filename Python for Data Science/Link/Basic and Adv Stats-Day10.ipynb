{
 "cells": [
  {
   "cell_type": "markdown",
   "id": "b69053de-5101-4585-b92e-4db855370621",
   "metadata": {},
   "source": [
    "# Statistics \n",
    "- Descriptive Statistics \n",
    "    - Measures of Central Tendency\n",
    "        - Mean \n",
    "        - Median \n",
    "        - Mode\n",
    "    - Measure of Dispersion / Spread \n",
    "        - Range\n",
    "        - InterQuartile Range\n",
    "        - Standard Deviation\n",
    "        - Variance\n",
    "    - Measure of Shape\n",
    "        - Skewness \n",
    "        - Kurtosis\n",
    "    - Covariance \n",
    "    - Correlation\n",
    "- Inferential Statistics\n",
    "    - Hypothesis Testing \n",
    "    - H0, H1\n",
    "    - T test, Z test\n",
    "    - Chi square Test\n",
    "    - ANOVA Test\n"
   ]
  },
  {
   "cell_type": "markdown",
   "id": "e479e613-efe8-4250-aaef-7cc259b26ac4",
   "metadata": {},
   "source": [
    "### Common Terminologies used in Statistics\n",
    "\n",
    " - Population - Complete Data Pool\n",
    " - Sample -  A part of Population data chosen randomly such that it represents the entire population\n",
    " - Parameter - Any statistical values calculated for population data is termed as parameter\n",
    " - Statistic - Any statistical values calculated for Sample data is termed as statistic\n",
    " - Variable - Something that take different possible values\n",
    " - Distribution -  How a data is spread across in a defined range of values"
   ]
  },
  {
   "cell_type": "markdown",
   "id": "8ccb03a2-1af1-4063-bedd-928067237f54",
   "metadata": {},
   "source": [
    "#### Types of Data\n",
    " \n",
    "- Categorical Data\n",
    "    - Ordinal -  Data is categories and can be ranked\n",
    "    - Nominal Data -  Data is categories and not ranked\n",
    "    - Ratio - categorized data with rank with even spacing and has natural Zero\n",
    "    - Interval Data - categorized data with rank with even spacing\n",
    "- Numerical Data\n",
    "    - Continuos \n",
    "    - Discrete"
   ]
  },
  {
   "cell_type": "raw",
   "id": "a4e3475c-184e-4644-b0bd-1ef6de7391a9",
   "metadata": {
    "tags": []
   },
   "source": [
    "# Measure Of Central Tendency  - it is summary  that describes the central value of the data\n",
    "\n",
    "# Mean  =  Sum of all Data Points/ no. of all data points - Population Data\n",
    "# Sample mean =      Sum of all Data Points in sample/ (no. of all data points  in sample -1) \n",
    "\n",
    "# Note:  A bessel's Correction is applied in sample statistic by subtraction 1 from the sample size while \n",
    "#        calculating if the sample size is the denominator the evaluation\n",
    "# Mean is sentitive to outliers/ skewed Data\n",
    "\n",
    "\n",
    "# Median - The centrally located value, if we have odd data points  otherwise for even data points its the average central 2 values . It can also be said as 50th percentile value, coined as Q2. The Data needs to be a  sorted order (preferably ASC)\n",
    "\n",
    "# Mode  =  This parameter can also be used for non numeric data. Its the most frequent term of the data points"
   ]
  },
  {
   "cell_type": "markdown",
   "id": "354ae5ec-4aed-4ef7-a9e2-91434e3f8389",
   "metadata": {},
   "source": [
    "$ \\mu = (\\Sigma x_{i})/N $"
   ]
  },
  {
   "cell_type": "code",
   "execution_count": 2,
   "id": "b91a98e7-c4dc-4ee8-a5f5-2b9de7a3c6c9",
   "metadata": {
    "tags": []
   },
   "outputs": [],
   "source": [
    "import statistics"
   ]
  },
  {
   "cell_type": "code",
   "execution_count": 3,
   "id": "2bc9aa67-9905-4f6c-84fc-0205d68c721f",
   "metadata": {
    "tags": []
   },
   "outputs": [
    {
     "data": {
      "text/plain": [
       "240"
      ]
     },
     "execution_count": 3,
     "metadata": {},
     "output_type": "execute_result"
    }
   ],
   "source": [
    "statistics.mean([100, 200, 250, 300, 350])"
   ]
  },
  {
   "cell_type": "code",
   "execution_count": 4,
   "id": "a5f01691-8fc8-4d25-847a-04b53d10aa9d",
   "metadata": {
    "tags": []
   },
   "outputs": [
    {
     "data": {
      "text/plain": [
       "250"
      ]
     },
     "execution_count": 4,
     "metadata": {},
     "output_type": "execute_result"
    }
   ],
   "source": [
    "statistics.median([100, 200, 250, 300, 350])"
   ]
  },
  {
   "cell_type": "code",
   "execution_count": 6,
   "id": "146fec04-ab28-4d56-98a0-f463ed301810",
   "metadata": {
    "tags": []
   },
   "outputs": [
    {
     "data": {
      "text/plain": [
       "300"
      ]
     },
     "execution_count": 6,
     "metadata": {},
     "output_type": "execute_result"
    }
   ],
   "source": [
    "statistics.mode([300,100, 200, 250,  350])"
   ]
  },
  {
   "cell_type": "code",
   "execution_count": 8,
   "id": "66a4da63-9e0f-4b28-afb6-717b1a3d9249",
   "metadata": {
    "tags": []
   },
   "outputs": [],
   "source": [
    "List = ['Apple','Samsung','Apple','Samsung','Apple','Samsung','Samsung','Apple','Samsung','Apple','Samsung','Apple','Samsung']"
   ]
  },
  {
   "cell_type": "code",
   "execution_count": 9,
   "id": "d42c8e25-2090-494e-ae57-4ccf69af533f",
   "metadata": {
    "tags": []
   },
   "outputs": [
    {
     "data": {
      "text/plain": [
       "'Samsung'"
      ]
     },
     "execution_count": 9,
     "metadata": {},
     "output_type": "execute_result"
    }
   ],
   "source": [
    "statistics.mode(List)"
   ]
  },
  {
   "cell_type": "markdown",
   "id": "8e48aa9c-7724-4963-a66f-36c311c89746",
   "metadata": {},
   "source": [
    "#### Measure of Dispersion"
   ]
  },
  {
   "cell_type": "markdown",
   "id": "6dda5a9c-f146-4fdf-89de-0b62c2295918",
   "metadata": {},
   "source": [
    "##### Range\n",
    "- The Difference between Largest and smallest Data points  (Max - Min)\n",
    "##### Inter Quartile Range\n",
    "- The range difference between 75th percentile and 25th percentile (Q3- Q1)"
   ]
  },
  {
   "cell_type": "code",
   "execution_count": 11,
   "id": "f89bf06c-dd8e-478b-a718-bf42a768aff2",
   "metadata": {
    "tags": []
   },
   "outputs": [],
   "source": [
    "import numpy as np"
   ]
  },
  {
   "cell_type": "code",
   "execution_count": 16,
   "id": "245ae3e5-2713-4db0-bc6a-d711e9adbc8d",
   "metadata": {
    "tags": []
   },
   "outputs": [],
   "source": [
    "l1= [1,2,3,4,5,6,7,8,9,15]"
   ]
  },
  {
   "cell_type": "code",
   "execution_count": 17,
   "id": "df994c28-1027-4c02-a2ff-c3203d8ce46b",
   "metadata": {
    "tags": []
   },
   "outputs": [],
   "source": [
    "Q1 = np.percentile(l1, 25)\n",
    "Q3 = np.percentile(l1, 75)\n",
    "\n",
    "IQR =  Q3- Q1"
   ]
  },
  {
   "cell_type": "code",
   "execution_count": 18,
   "id": "86159418-7913-4704-ac36-91ba28f94f0d",
   "metadata": {
    "tags": []
   },
   "outputs": [],
   "source": [
    "# To find outliers we find the lower bounds and upper bounds"
   ]
  },
  {
   "cell_type": "code",
   "execution_count": 19,
   "id": "11e10827-445f-42bd-9069-f32d795bce14",
   "metadata": {
    "tags": []
   },
   "outputs": [
    {
     "name": "stdout",
     "output_type": "stream",
     "text": [
      "-3.5 14.5\n"
     ]
    }
   ],
   "source": [
    "lb  =  Q1 - 1.5 * IQR\n",
    "ub  =  Q3 + 1.5 * IQR\n",
    "print(lb, ub)"
   ]
  },
  {
   "cell_type": "code",
   "execution_count": 21,
   "id": "ab97b8b8-550e-4f92-a965-c5cb412bfac8",
   "metadata": {
    "tags": []
   },
   "outputs": [],
   "source": [
    "X = np.array([1,2,3,4,5,6])\n",
    "statistics.mean(X)\n",
    "\n",
    "statistics.mean([1,2,3,4,5,6])"
   ]
  },
  {
   "cell_type": "code",
   "execution_count": null,
   "id": "5d614ffb-7b20-42e6-ab8f-4e055092bb18",
   "metadata": {},
   "outputs": [],
   "source": [
    "# Standard Deviation  - Measure of dispersion around mean - Average deviation of each data point from the mean values."
   ]
  },
  {
   "cell_type": "code",
   "execution_count": 28,
   "id": "0a902d88-10c7-4711-9d17-111da20c3e42",
   "metadata": {
    "tags": []
   },
   "outputs": [],
   "source": [
    "# Variance - Square of standard Deviation"
   ]
  },
  {
   "cell_type": "code",
   "execution_count": 29,
   "id": "ca3846dd-53cf-4d59-898d-81d59bee1036",
   "metadata": {
    "tags": []
   },
   "outputs": [],
   "source": [
    "# Co Variance - Depicts the Variation in terms of sign between two data columns\n",
    "# Correlation  - gives the magnitude of relation among two data columns in a range -1 to +1 where 0 means no correlation"
   ]
  },
  {
   "cell_type": "markdown",
   "id": "ec09eebf-e2a3-490c-9138-049cccc563e2",
   "metadata": {},
   "source": [
    "#### Measure of Shape"
   ]
  },
  {
   "cell_type": "raw",
   "id": "f7f76408-e16d-4054-aaca-a9ac49704351",
   "metadata": {
    "tags": []
   },
   "source": [
    "Skewness  - Deviation from horizontal symmetry . Measured as 3(mean- median)/standard Deviation\n",
    "Kurtosis -  deviations in the tails of the data . Measures as  sum of 4th power of  devaition from mean/ 4th power of S.D."
   ]
  },
  {
   "cell_type": "markdown",
   "id": "61da40f6-a4eb-423f-a9f6-6a6bd285da2c",
   "metadata": {},
   "source": []
  }
 ],
 "metadata": {
  "kernelspec": {
   "display_name": "Python 3 (ipykernel)",
   "language": "python",
   "name": "python3"
  },
  "language_info": {
   "codemirror_mode": {
    "name": "ipython",
    "version": 3
   },
   "file_extension": ".py",
   "mimetype": "text/x-python",
   "name": "python",
   "nbconvert_exporter": "python",
   "pygments_lexer": "ipython3",
   "version": "3.11.5"
  }
 },
 "nbformat": 4,
 "nbformat_minor": 5
}
