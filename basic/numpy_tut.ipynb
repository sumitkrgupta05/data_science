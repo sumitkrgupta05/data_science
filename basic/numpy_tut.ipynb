{
 "cells": [
  {
   "cell_type": "code",
   "execution_count": 3,
   "id": "d050998f-93fd-49f4-9957-b725039b05a1",
   "metadata": {},
   "outputs": [
    {
     "name": "stdout",
     "output_type": "stream",
     "text": [
      "Hello World\n"
     ]
    }
   ],
   "source": [
    "print(\"Hello World\")"
   ]
  },
  {
   "cell_type": "markdown",
   "id": "d771ccc4-5ddc-4605-896f-75228183e06b",
   "metadata": {
    "jp-MarkdownHeadingCollapsed": true
   },
   "source": [
    "# Array"
   ]
  },
  {
   "cell_type": "code",
   "execution_count": 4,
   "id": "1dd2fcc5-dc4e-46b6-92d2-0302aa96b0cb",
   "metadata": {},
   "outputs": [
    {
     "name": "stdout",
     "output_type": "stream",
     "text": [
      "[1 2 3 4 5]\n",
      "<class 'numpy.ndarray'>\n"
     ]
    }
   ],
   "source": [
    "import numpy as np\n",
    "arr = np.array([1, 2, 3, 4, 5])\n",
    "print(arr)\n",
    "print(type(arr))"
   ]
  },
  {
   "cell_type": "code",
   "execution_count": 6,
   "id": "6a47fb14-391d-4bd7-85aa-bc58eaa5aa9e",
   "metadata": {},
   "outputs": [
    {
     "name": "stdin",
     "output_type": "stream",
     "text": [
      "Enter :  4\n",
      "Enter :  3\n",
      "Enter :  2\n"
     ]
    },
    {
     "name": "stdout",
     "output_type": "stream",
     "text": [
      "[4, 3, 2]\n",
      "<class 'list'>\n"
     ]
    }
   ],
   "source": [
    "l=[]\n",
    "for i in range(1,4):\n",
    "    x=int(input(\"Enter : \"))\n",
    "    l.append(x)\n",
    "print(l)\n",
    "print(type(l))"
   ]
  },
  {
   "cell_type": "markdown",
   "id": "afbe9560-f863-4715-968c-e8f3f8936a54",
   "metadata": {
    "jp-MarkdownHeadingCollapsed": true
   },
   "source": [
    "## 2-D Array"
   ]
  },
  {
   "cell_type": "code",
   "execution_count": 15,
   "id": "3d94e88d-9408-4e22-b509-67afa37558b5",
   "metadata": {},
   "outputs": [
    {
     "name": "stdout",
     "output_type": "stream",
     "text": [
      "[[1 2 3 4]\n",
      " [1 2 3 4]]\n",
      "2\n"
     ]
    }
   ],
   "source": [
    "import numpy as np\n",
    "a2=np.array([[1,2,3,4],[1,2,3,4]])\n",
    "print(a2)\n",
    "print(a2.ndim)"
   ]
  },
  {
   "cell_type": "markdown",
   "id": "a248cc70-0582-451f-8da3-e04171561d32",
   "metadata": {
    "jp-MarkdownHeadingCollapsed": true
   },
   "source": [
    "## 3-D Array"
   ]
  },
  {
   "cell_type": "code",
   "execution_count": 12,
   "id": "b6285a75-34fe-4ed0-a94d-2fda494ee1b1",
   "metadata": {},
   "outputs": [
    {
     "name": "stdout",
     "output_type": "stream",
     "text": [
      "[[[1 2 3]]]\n",
      "3\n"
     ]
    }
   ],
   "source": [
    "import numpy as np\n",
    "a2=np.array([[[1,2,3]]])\n",
    "print(a2)\n",
    "print(a2.ndim)"
   ]
  },
  {
   "cell_type": "markdown",
   "id": "c08ca9d7-946c-4727-b243-310200b417e8",
   "metadata": {
    "jp-MarkdownHeadingCollapsed": true
   },
   "source": [
    "## Multi-Dimensional Array"
   ]
  },
  {
   "cell_type": "code",
   "execution_count": 18,
   "id": "2b0f2c52-42ce-48e2-ba68-c5fa8477c710",
   "metadata": {},
   "outputs": [
    {
     "name": "stdout",
     "output_type": "stream",
     "text": [
      "[[[[[1 2 3 4]]]]]\n",
      "number of dimensions : 5\n"
     ]
    }
   ],
   "source": [
    "import numpy as np\n",
    "am = np.array([1, 2, 3, 4], ndmin=5)\n",
    "print(am)\n",
    "print('number of dimensions :', am.ndim)"
   ]
  },
  {
   "cell_type": "markdown",
   "id": "3d0e934f-9d41-4b65-8e93-ec3a62374222",
   "metadata": {
    "jp-MarkdownHeadingCollapsed": true
   },
   "source": [
    "# Spepcial Types of Array"
   ]
  },
  {
   "cell_type": "markdown",
   "id": "765adb0e-f4c7-4e55-b248-895de1f0fa89",
   "metadata": {
    "jp-MarkdownHeadingCollapsed": true
   },
   "source": [
    "## Array filled with 0"
   ]
  },
  {
   "cell_type": "code",
   "execution_count": 20,
   "id": "917d7929-fb11-4802-8898-c3640806bcc2",
   "metadata": {},
   "outputs": [
    {
     "name": "stdout",
     "output_type": "stream",
     "text": [
      "[0. 0. 0. 0.]\n",
      "[[0. 0. 0. 0.]\n",
      " [0. 0. 0. 0.]\n",
      " [0. 0. 0. 0.]]\n"
     ]
    }
   ],
   "source": [
    "# 1-d\n",
    "import numpy as np\n",
    "a=np.zeros(4)\n",
    "print(a)\n",
    "# 3-d\n",
    "b=np.zeros((3,4))\n",
    "print(b)"
   ]
  },
  {
   "cell_type": "markdown",
   "id": "b5f4cbbc-811d-41a6-9251-f7e0e7a75b71",
   "metadata": {
    "jp-MarkdownHeadingCollapsed": true
   },
   "source": [
    "## Array filled with 1"
   ]
  },
  {
   "cell_type": "code",
   "execution_count": 21,
   "id": "b3552481-f761-46b6-bd91-551357cc4eb6",
   "metadata": {},
   "outputs": [
    {
     "name": "stdout",
     "output_type": "stream",
     "text": [
      "[1. 1. 1. 1.]\n",
      "[[1. 1. 1. 1.]\n",
      " [1. 1. 1. 1.]\n",
      " [1. 1. 1. 1.]]\n"
     ]
    }
   ],
   "source": [
    "# 1-d\n",
    "import numpy as np\n",
    "a=np.ones(4)\n",
    "print(a)\n",
    "# 3-d\n",
    "b=np.ones((3,4))\n",
    "print(b)"
   ]
  },
  {
   "cell_type": "markdown",
   "id": "f711f527-a82f-4eae-88ac-0ac4c6189022",
   "metadata": {
    "jp-MarkdownHeadingCollapsed": true
   },
   "source": [
    "## Creating an empty array"
   ]
  },
  {
   "cell_type": "code",
   "execution_count": 23,
   "id": "b8abc243-5630-4ea6-837c-54d9d6f844e0",
   "metadata": {},
   "outputs": [
    {
     "name": "stdout",
     "output_type": "stream",
     "text": [
      "[1. 1. 1. 1.]\n"
     ]
    }
   ],
   "source": [
    "# previoous memory ka data show krra so all okayy\n",
    "ae=np.empty(4)\n",
    "print(ae)"
   ]
  },
  {
   "cell_type": "markdown",
   "id": "c96ec445-802e-4c5b-9b5f-8620d6e3ffbe",
   "metadata": {
    "jp-MarkdownHeadingCollapsed": true
   },
   "source": [
    "## An Array with a Range of Elements  "
   ]
  },
  {
   "cell_type": "code",
   "execution_count": 24,
   "id": "01cf4287-de8c-4bad-a64b-de119cd1be6b",
   "metadata": {},
   "outputs": [
    {
     "name": "stdout",
     "output_type": "stream",
     "text": [
      "[0 1 2 3]\n"
     ]
    }
   ],
   "source": [
    "ar=np.arange(4)\n",
    "print(ar)"
   ]
  },
  {
   "cell_type": "markdown",
   "id": "be57218b-5827-46bf-a1e4-4bff2a07ed44",
   "metadata": {
    "jp-MarkdownHeadingCollapsed": true
   },
   "source": [
    "## Array wtih Diagonal filled with 1's"
   ]
  },
  {
   "cell_type": "code",
   "execution_count": 31,
   "id": "f3f408f0-35bf-4e1c-84d7-bdc1a10692cd",
   "metadata": {},
   "outputs": [
    {
     "name": "stdout",
     "output_type": "stream",
     "text": [
      "[[1. 0. 0.]\n",
      " [0. 1. 0.]\n",
      " [0. 0. 1.]]\n"
     ]
    }
   ],
   "source": [
    "ad=np.eye(3)\n",
    "print(ad)"
   ]
  },
  {
   "cell_type": "code",
   "execution_count": 33,
   "id": "77170be2-c86a-40fd-b779-e17c10617450",
   "metadata": {},
   "outputs": [
    {
     "name": "stdout",
     "output_type": "stream",
     "text": [
      "[[1. 0. 0. 0. 0. 0.]\n",
      " [0. 1. 0. 0. 0. 0.]\n",
      " [0. 0. 1. 0. 0. 0.]\n",
      " [0. 0. 0. 1. 0. 0.]]\n"
     ]
    }
   ],
   "source": [
    "ad=np.eye(4,6)\n",
    "print(ad)"
   ]
  },
  {
   "cell_type": "markdown",
   "id": "bc26eca5-0c94-4a10-ad91-1d8d3eda7263",
   "metadata": {
    "jp-MarkdownHeadingCollapsed": true
   },
   "source": [
    "## Evenly spaced array"
   ]
  },
  {
   "cell_type": "code",
   "execution_count": 36,
   "id": "ee989a9f-c480-4f3e-9460-69d83bbab97c",
   "metadata": {},
   "outputs": [
    {
     "name": "stdout",
     "output_type": "stream",
     "text": [
      "[ 0.  5. 10. 15. 20.]\n"
     ]
    }
   ],
   "source": [
    "al=np.linspace(0,20,num=5)\n",
    "print(al)"
   ]
  },
  {
   "cell_type": "markdown",
   "id": "890330ec-a7cb-4a5d-918f-7c10ecc7d2ec",
   "metadata": {
    "jp-MarkdownHeadingCollapsed": true
   },
   "source": [
    "# Creating Random Values Array "
   ]
  },
  {
   "cell_type": "markdown",
   "id": "6bf584d7-e22b-4882-9c76-1ffebcdbdb7b",
   "metadata": {
    "jp-MarkdownHeadingCollapsed": true
   },
   "source": [
    "## Generate Random Number"
   ]
  },
  {
   "cell_type": "code",
   "execution_count": 42,
   "id": "2af007b1-3905-4d4f-8464-aac44ad05a23",
   "metadata": {},
   "outputs": [
    {
     "name": "stdout",
     "output_type": "stream",
     "text": [
      "7\n"
     ]
    }
   ],
   "source": [
    "from numpy import random\n",
    "x = random.randint(10)\n",
    "print(x)"
   ]
  },
  {
   "cell_type": "markdown",
   "id": "65c9e7b9-1372-4c9e-9cb6-8e828d793828",
   "metadata": {
    "jp-MarkdownHeadingCollapsed": true
   },
   "source": [
    "## rand()"
   ]
  },
  {
   "cell_type": "code",
   "execution_count": 43,
   "id": "40920725-529b-4552-a9c2-eb9b7427475e",
   "metadata": {},
   "outputs": [
    {
     "name": "stdout",
     "output_type": "stream",
     "text": [
      "[0.79871332 0.11606003 0.32528704]\n",
      "[[0.3440296  0.69748484 0.41872381 0.39754789 0.10050466]\n",
      " [0.98087411 0.38794905 0.81396146 0.52603967 0.96818621]]\n"
     ]
    }
   ],
   "source": [
    "import numpy as np\n",
    "a=np.random.rand(3) # 1-d\n",
    "print(a)\n",
    "b=np.random.rand(2,5) # multi-d\n",
    "print(b)"
   ]
  },
  {
   "cell_type": "markdown",
   "id": "b5d325ca-8ee4-45ef-b3d7-508a2aa9a988",
   "metadata": {
    "jp-MarkdownHeadingCollapsed": true
   },
   "source": [
    "## randn()"
   ]
  },
  {
   "cell_type": "code",
   "execution_count": 45,
   "id": "5ad62ede-5d68-4bb9-8ceb-dde9b22fcda2",
   "metadata": {},
   "outputs": [
    {
     "name": "stdout",
     "output_type": "stream",
     "text": [
      "[-0.66094218  1.59182057  1.33861239]\n"
     ]
    }
   ],
   "source": [
    "a=np.random.randn(3)\n",
    "print(a)"
   ]
  },
  {
   "cell_type": "markdown",
   "id": "59fe0ea5-d965-4f44-9505-dbd47051045f",
   "metadata": {
    "jp-MarkdownHeadingCollapsed": true
   },
   "source": [
    "## ranf()"
   ]
  },
  {
   "cell_type": "code",
   "execution_count": 46,
   "id": "8ff8235d-39c9-4eea-a09b-1298bc160fa1",
   "metadata": {},
   "outputs": [
    {
     "name": "stdout",
     "output_type": "stream",
     "text": [
      "[0.23001553 0.84282357 0.73482437 0.3423785 ]\n"
     ]
    }
   ],
   "source": [
    "a=np.random.ranf(4)\n",
    "print(a)"
   ]
  },
  {
   "cell_type": "markdown",
   "id": "06421f8c-48c0-41e1-b94c-92fc97e4623a",
   "metadata": {
    "jp-MarkdownHeadingCollapsed": true
   },
   "source": [
    "## choice()"
   ]
  },
  {
   "cell_type": "code",
   "execution_count": 48,
   "id": "c16daaa9-f6f0-430a-8240-56748f0e4e29",
   "metadata": {},
   "outputs": [
    {
     "name": "stdout",
     "output_type": "stream",
     "text": [
      "5\n"
     ]
    }
   ],
   "source": [
    "# return a number from this array only\n",
    "from numpy import random\n",
    "x = random.choice([3, 5, 7, 9])\n",
    "print(x)\n"
   ]
  },
  {
   "cell_type": "code",
   "execution_count": 52,
   "id": "b608b333-349f-4695-b55e-9d908598be4e",
   "metadata": {},
   "outputs": [
    {
     "name": "stdout",
     "output_type": "stream",
     "text": [
      "[[9 3 7 7 5]\n",
      " [5 3 5 3 9]\n",
      " [9 9 7 5 7]]\n"
     ]
    }
   ],
   "source": [
    "# shuffle the entire array and return random array with this value only\n",
    "from numpy import random\n",
    "x = random.choice([3, 5, 7, 9], size=(3, 5))\n",
    "print(x)"
   ]
  },
  {
   "cell_type": "markdown",
   "id": "d740f4a2-e3f3-436b-ad43-5212c76f34a7",
   "metadata": {
    "jp-MarkdownHeadingCollapsed": true
   },
   "source": [
    "# Data Type In Numpy"
   ]
  },
  {
   "cell_type": "markdown",
   "id": "bbac984d-684b-42e7-bc5f-95b7ab85a4d4",
   "metadata": {
    "jp-MarkdownHeadingCollapsed": true
   },
   "source": [
    "## Checking Data Type of Array"
   ]
  },
  {
   "cell_type": "code",
   "execution_count": 53,
   "id": "02f13a5e-b800-41d0-a1a7-6d69d10ca8cb",
   "metadata": {},
   "outputs": [
    {
     "name": "stdout",
     "output_type": "stream",
     "text": [
      "int32\n"
     ]
    }
   ],
   "source": [
    "import numpy as np\n",
    "arr = np.array([1, 2, 3, 4])\n",
    "print(arr.dtype)"
   ]
  },
  {
   "cell_type": "markdown",
   "id": "c4e35f71-49b2-4b1c-b147-3e1dd5ac1f6f",
   "metadata": {
    "jp-MarkdownHeadingCollapsed": true
   },
   "source": [
    "## Creating Array with a Defined Data Type"
   ]
  },
  {
   "cell_type": "code",
   "execution_count": 58,
   "id": "0d482375-5663-4f53-9836-5e30f846b5b9",
   "metadata": {},
   "outputs": [
    {
     "name": "stdout",
     "output_type": "stream",
     "text": [
      "[1. 2. 3. 4.]\n",
      "float32\n"
     ]
    }
   ],
   "source": [
    "# arr = np.array([1, 2, 3, 4], dtype='i1')\n",
    "# arr = np.array([1, 2, 3, 4], dtype='i2')\n",
    "# arr = np.array([1, 2, 3, 4], dtype='i4')\n",
    "# arr = np.array([1, 2, 3, 4], dtype='S')\n",
    "arr = np.array([1, 2, 3, 4], dtype='f')\n",
    "print(arr)\n",
    "print(arr.dtype)"
   ]
  },
  {
   "cell_type": "code",
   "execution_count": 64,
   "id": "41c8ba95-1986-47c1-9afa-409527acbc54",
   "metadata": {},
   "outputs": [
    {
     "name": "stdout",
     "output_type": "stream",
     "text": [
      "[1 2 3 4]\n",
      "int32\n",
      "[1. 2. 3. 4.]\n",
      "float32\n",
      "[b'1' b'2' b'3' b'4']\n",
      "|S11\n"
     ]
    }
   ],
   "source": [
    "# creating with the help of the function\n",
    "arr = np.array([1, 2, 3, 4], dtype='i')\n",
    "print(arr)\n",
    "print(arr.dtype)\n",
    "# function type-1\n",
    "new=np.float32(arr)\n",
    "print(new)\n",
    "print(new.dtype)\n",
    "# function type-2\n",
    "new2=arr.astype('S')\n",
    "print(new2)\n",
    "print(new2.dtype)"
   ]
  },
  {
   "cell_type": "markdown",
   "id": "d458b6d0-7587-4adc-b9f5-1b520f8be68e",
   "metadata": {
    "jp-MarkdownHeadingCollapsed": true
   },
   "source": [
    "# Shape & Reshape in Numpy Array"
   ]
  },
  {
   "cell_type": "markdown",
   "id": "d660efa0-ccbc-4709-b3cb-b067ec2bbdb5",
   "metadata": {
    "jp-MarkdownHeadingCollapsed": true
   },
   "source": [
    "## Shape"
   ]
  },
  {
   "cell_type": "code",
   "execution_count": 66,
   "id": "c868d1c7-f792-47de-87ec-bfeed25d5726",
   "metadata": {},
   "outputs": [
    {
     "name": "stdout",
     "output_type": "stream",
     "text": [
      "[[1 2 3 4]\n",
      " [1 2 3 4]]\n",
      "(2, 4)\n"
     ]
    }
   ],
   "source": [
    "import numpy as np\n",
    "a=np.array([[1,2,3,4],[1,2,3,4]])\n",
    "print(a)\n",
    "print(a.shape)"
   ]
  },
  {
   "cell_type": "markdown",
   "id": "57056bda-2186-45ea-b0c1-2feb39cad76f",
   "metadata": {
    "jp-MarkdownHeadingCollapsed": true
   },
   "source": [
    "## Reshape"
   ]
  },
  {
   "cell_type": "code",
   "execution_count": 6,
   "id": "38b528e2-ac36-4b5a-90a4-dfdabbfceb26",
   "metadata": {},
   "outputs": [
    {
     "name": "stdout",
     "output_type": "stream",
     "text": [
      "[1 2 3 4 5 6]\n",
      "1\n",
      "[[1 2]\n",
      " [3 4]\n",
      " [5 6]]\n",
      "2\n",
      "[[[ 1  2]\n",
      "  [ 3  4]\n",
      "  [ 5  6]]\n",
      "\n",
      " [[ 7  8]\n",
      "  [ 9 10]\n",
      "  [11 12]]]\n",
      "3\n"
     ]
    }
   ],
   "source": [
    "import numpy as np\n",
    "a=np.array([1,2,3,4,5,6])\n",
    "print(a)\n",
    "print(a.ndim)\n",
    "# chnge to 2-d\n",
    "x=a.reshape(3,2)\n",
    "print(x)\n",
    "print(x.ndim)\n",
    "# chnge to 3-d\n",
    "b=np.array([1,2,3,4,5,6,7,8,9,10,11,12])\n",
    "y=b.reshape(2,3,2)\n",
    "print(y)\n",
    "print(y.ndim)"
   ]
  },
  {
   "cell_type": "code",
   "execution_count": 7,
   "id": "4ecda42b-bd71-4d5c-b346-9d02a39b08f0",
   "metadata": {},
   "outputs": [
    {
     "name": "stdout",
     "output_type": "stream",
     "text": [
      "[[[ 1  2]\n",
      "  [ 3  4]\n",
      "  [ 5  6]]\n",
      "\n",
      " [[ 7  8]\n",
      "  [ 9 10]\n",
      "  [11 12]]]\n",
      "3\n",
      "[ 1  2  3  4  5  6  7  8  9 10 11 12]\n",
      "1\n"
     ]
    }
   ],
   "source": [
    "# changing 3-d to 1-d\n",
    "b=np.array([1,2,3,4,5,6,7,8,9,10,11,12])\n",
    "# 3-d\n",
    "y=b.reshape(2,3,2)\n",
    "print(y)\n",
    "print(y.ndim)\n",
    "# 1-d\n",
    "one=y.reshape(-1)\n",
    "print(one)\n",
    "print(one.ndim)"
   ]
  },
  {
   "cell_type": "markdown",
   "id": "66374d0a-3347-4d1e-9382-607eb88d1f44",
   "metadata": {
    "jp-MarkdownHeadingCollapsed": true
   },
   "source": [
    "# Arthimetic Operations"
   ]
  },
  {
   "cell_type": "markdown",
   "id": "1fbdc904-9beb-4505-92c9-e021011cc41c",
   "metadata": {
    "jp-MarkdownHeadingCollapsed": true
   },
   "source": [
    "## Add"
   ]
  },
  {
   "cell_type": "code",
   "execution_count": 4,
   "id": "6c03c2be-c339-479e-be78-d5d87ddf59fa",
   "metadata": {},
   "outputs": [
    {
     "name": "stdout",
     "output_type": "stream",
     "text": [
      "[4 5 6 7]\n"
     ]
    }
   ],
   "source": [
    "import numpy as np\n",
    "v=np.array([1,2,3,4])\n",
    "va=v+3\n",
    "print(va)"
   ]
  },
  {
   "cell_type": "code",
   "execution_count": 14,
   "id": "43ab31a2-5c2f-486d-a31a-7907c8cc1c77",
   "metadata": {},
   "outputs": [
    {
     "name": "stdout",
     "output_type": "stream",
     "text": [
      "[2 4 6 8]\n"
     ]
    }
   ],
   "source": [
    "v1=np.array([1,2,3,4])\n",
    "v2=np.array([1,2,3,4])\n",
    "va=np.add(v1,v2)\n",
    "print(va)"
   ]
  },
  {
   "cell_type": "markdown",
   "id": "591b62a9-9b6e-4a03-a2e8-e8994f68f911",
   "metadata": {},
   "source": [
    "## Subtraction"
   ]
  },
  {
   "cell_type": "code",
   "execution_count": 6,
   "id": "ced373cb-2613-4dd5-a2cc-da52a8c6179e",
   "metadata": {},
   "outputs": [
    {
     "name": "stdout",
     "output_type": "stream",
     "text": [
      "[-2 -1  0  1]\n"
     ]
    }
   ],
   "source": [
    "import numpy as np\n",
    "v=np.array([1,2,3,4])\n",
    "va=v-3\n",
    "print(va)"
   ]
  },
  {
   "cell_type": "code",
   "execution_count": 16,
   "id": "6f44f139-5f47-4ca1-91fb-c0092680a995",
   "metadata": {},
   "outputs": [
    {
     "name": "stdout",
     "output_type": "stream",
     "text": [
      "[0 0 0 0]\n"
     ]
    }
   ],
   "source": [
    "v1=np.array([1,2,3,4])\n",
    "v2=np.array([1,2,3,4])\n",
    "va=np.subtract(v1,v2)\n",
    "print(va)"
   ]
  },
  {
   "cell_type": "markdown",
   "id": "df1c5185-d685-45c2-a601-0ee4c98507f8",
   "metadata": {
    "jp-MarkdownHeadingCollapsed": true
   },
   "source": [
    "## Multiply"
   ]
  },
  {
   "cell_type": "code",
   "execution_count": 8,
   "id": "8017da51-f4fc-45c1-bdb9-02d7869303eb",
   "metadata": {},
   "outputs": [
    {
     "name": "stdout",
     "output_type": "stream",
     "text": [
      "[ 3  6  9 12]\n"
     ]
    }
   ],
   "source": [
    "import numpy as np\n",
    "v=np.array([1,2,3,4])\n",
    "va=v*3\n",
    "print(va)"
   ]
  },
  {
   "cell_type": "code",
   "execution_count": 17,
   "id": "76448a72-3a35-4bbb-9cb4-10f935e23bc4",
   "metadata": {},
   "outputs": [
    {
     "name": "stdout",
     "output_type": "stream",
     "text": [
      "[ 1  4  9 16]\n"
     ]
    }
   ],
   "source": [
    "v1=np.array([1,2,3,4])\n",
    "v2=np.array([1,2,3,4])\n",
    "va=np.multiply(v1,v2)\n",
    "print(va)"
   ]
  },
  {
   "cell_type": "markdown",
   "id": "64ef8467-7f9f-41ef-8353-eb09f96b3c2f",
   "metadata": {
    "jp-MarkdownHeadingCollapsed": true
   },
   "source": [
    "## Divide"
   ]
  },
  {
   "cell_type": "code",
   "execution_count": 10,
   "id": "78c9f49a-0d51-4e26-95d6-75ea3329e314",
   "metadata": {},
   "outputs": [
    {
     "name": "stdout",
     "output_type": "stream",
     "text": [
      "[0.33333333 0.66666667 1.         1.33333333]\n"
     ]
    }
   ],
   "source": [
    "import numpy as np\n",
    "v=np.array([1,2,3,4])\n",
    "va=v/3\n",
    "print(va)"
   ]
  },
  {
   "cell_type": "code",
   "execution_count": 18,
   "id": "676bdd3b-b678-433d-9475-c1d4bbc7e9c3",
   "metadata": {},
   "outputs": [
    {
     "name": "stdout",
     "output_type": "stream",
     "text": [
      "[1. 1. 1. 1.]\n"
     ]
    }
   ],
   "source": [
    "v1=np.array([1,2,3,4])\n",
    "v2=np.array([1,2,3,4])\n",
    "va=np.divide(v1,v2)\n",
    "print(va)"
   ]
  },
  {
   "cell_type": "markdown",
   "id": "647dedc1-7ba9-46ec-bf27-9ec82af17ed9",
   "metadata": {
    "jp-MarkdownHeadingCollapsed": true
   },
   "source": [
    "## Modulus"
   ]
  },
  {
   "cell_type": "code",
   "execution_count": 11,
   "id": "36c36234-1e11-4b1e-a947-d20ad948ce28",
   "metadata": {},
   "outputs": [
    {
     "name": "stdout",
     "output_type": "stream",
     "text": [
      "[1 2 0 1]\n"
     ]
    }
   ],
   "source": [
    "import numpy as np\n",
    "v=np.array([1,2,3,4])\n",
    "va=v%3\n",
    "print(va)"
   ]
  },
  {
   "cell_type": "code",
   "execution_count": 24,
   "id": "73f509a0-45e9-41ef-8245-6ae89a4780df",
   "metadata": {},
   "outputs": [
    {
     "name": "stdout",
     "output_type": "stream",
     "text": [
      "[0 0 0 0]\n"
     ]
    }
   ],
   "source": [
    "v1=np.array([1,2,3,4])\n",
    "v2=np.array([1,2,3,4])\n",
    "va=np.mod(v1,v2)\n",
    "print(va)"
   ]
  },
  {
   "cell_type": "markdown",
   "id": "431c76f8-46c6-466b-9f43-aacaf49ac590",
   "metadata": {
    "jp-MarkdownHeadingCollapsed": true
   },
   "source": [
    "## Reciprocal"
   ]
  },
  {
   "cell_type": "code",
   "execution_count": 26,
   "id": "8683a117-9b60-4451-a8f2-fbd532f9a3e7",
   "metadata": {},
   "outputs": [
    {
     "name": "stdout",
     "output_type": "stream",
     "text": [
      "[1 0 0 0]\n"
     ]
    }
   ],
   "source": [
    "import numpy as np\n",
    "v=np.array([1,2,3,4])\n",
    "va=np.reciprocal(v)\n",
    "print(va)"
   ]
  },
  {
   "cell_type": "markdown",
   "id": "558b09c8-abbc-4d86-b6ae-c897a0912a6c",
   "metadata": {
    "jp-MarkdownHeadingCollapsed": true
   },
   "source": [
    "## Operations on 2-D"
   ]
  },
  {
   "cell_type": "code",
   "execution_count": 22,
   "id": "ee10f4c2-fe46-4fb7-b121-20263a8572f7",
   "metadata": {},
   "outputs": [
    {
     "name": "stdout",
     "output_type": "stream",
     "text": [
      "[[2 4 6 8]\n",
      " [2 4 6 8]]\n"
     ]
    }
   ],
   "source": [
    "# Addition\n",
    "import numpy as np\n",
    "v1=np.array([[1,2,3,4],[1,2,3,4]])\n",
    "v2=np.array([[1,2,3,4],[1,2,3,4]])\n",
    "va=np.add(v1,v2)\n",
    "# print(v1)\n",
    "# print(v2)\n",
    "print(va)"
   ]
  },
  {
   "cell_type": "code",
   "execution_count": 23,
   "id": "2d5a8173-d71c-4eda-912e-0813ade337a5",
   "metadata": {},
   "outputs": [
    {
     "name": "stdout",
     "output_type": "stream",
     "text": [
      "[[0 0 0 0]\n",
      " [0 0 0 0]]\n"
     ]
    }
   ],
   "source": [
    "# Subtraction\n",
    "import numpy as np\n",
    "v1=np.array([[1,2,3,4],[1,2,3,4]])\n",
    "v2=np.array([[1,2,3,4],[1,2,3,4]])\n",
    "va=np.subtract(v1,v2)\n",
    "print(va)"
   ]
  },
  {
   "cell_type": "code",
   "execution_count": 27,
   "id": "e4630a0a-64b6-40d8-8df2-0b9235ad1d85",
   "metadata": {},
   "outputs": [
    {
     "name": "stdout",
     "output_type": "stream",
     "text": [
      "[[ 1  4  9 16]\n",
      " [ 1  4  9 16]]\n"
     ]
    }
   ],
   "source": [
    "# Multiplication\n",
    "import numpy as np\n",
    "v1=np.array([[1,2,3,4],[1,2,3,4]])\n",
    "v2=np.array([[1,2,3,4],[1,2,3,4]])\n",
    "va=np.multiply(v1,v2)\n",
    "print(va)"
   ]
  },
  {
   "cell_type": "markdown",
   "id": "3f9795e9-bb14-40b4-ae0c-75c083860bc9",
   "metadata": {
    "jp-MarkdownHeadingCollapsed": true
   },
   "source": [
    "## Arithmetic Function"
   ]
  },
  {
   "cell_type": "code",
   "execution_count": 35,
   "id": "b3784c93-7bd8-41cf-bbbc-d6a5d028e7e8",
   "metadata": {},
   "outputs": [
    {
     "name": "stdout",
     "output_type": "stream",
     "text": [
      "1 2\n",
      "9 4\n",
      "[1.41421356 2.         1.         2.44948974 3.         2.23606798]\n"
     ]
    }
   ],
   "source": [
    "import numpy as np\n",
    "v=np.array([2,4,1,6,9,5])\n",
    "print(np.min(v),np.argmin(v))\n",
    "print(np.max(v),np.argmax(v))\n",
    "print(np.sqrt(v))"
   ]
  },
  {
   "cell_type": "code",
   "execution_count": 37,
   "id": "0773f524-7996-462b-bc7f-8c54391c56ab",
   "metadata": {},
   "outputs": [
    {
     "name": "stdout",
     "output_type": "stream",
     "text": [
      "[0.84147098 0.90929743 0.14112001]\n",
      "[ 0.54030231 -0.41614684 -0.9899925 ]\n",
      "[ 1  3  6 10 15]\n"
     ]
    }
   ],
   "source": [
    "# sin-cos func\n",
    "var=np.array([1,2,3])\n",
    "print(np.sin(var))\n",
    "print(np.cos(var))\n",
    "ar=np.array([1,2,3,4,5])\n",
    "print(np.cumsum(ar))"
   ]
  },
  {
   "cell_type": "code",
   "execution_count": 34,
   "id": "b31f136f-1b79-4a1b-a91c-76dd5ace6f37",
   "metadata": {},
   "outputs": [
    {
     "name": "stdout",
     "output_type": "stream",
     "text": [
      "[2 4 1]\n",
      "[1 5]\n"
     ]
    }
   ],
   "source": [
    "# 2-d array\n",
    "v=np.array([[2,4,1],[6,9,5]])\n",
    "print(np.min(v,axis=0)) #col\n",
    "print(np.min(v,axis=1)) #row"
   ]
  },
  {
   "cell_type": "markdown",
   "id": "40bf2fe0-7791-47d8-9998-49bc9014912a",
   "metadata": {
    "jp-MarkdownHeadingCollapsed": true
   },
   "source": [
    "# Broadcasting"
   ]
  },
  {
   "cell_type": "code",
   "execution_count": 38,
   "id": "2d87beb6-7bc4-4459-a502-ae9bf84dcb0d",
   "metadata": {},
   "outputs": [
    {
     "name": "stdout",
     "output_type": "stream",
     "text": [
      "[[2 3 4]\n",
      " [3 4 5]\n",
      " [4 5 6]]\n"
     ]
    }
   ],
   "source": [
    "import numpy as np\n",
    "v1=np.array([1,2,3]) # (1x3)\n",
    "v2=np.array([[1],[2],[3]]) # (3x1)\n",
    "print(v1+v2)"
   ]
  },
  {
   "cell_type": "markdown",
   "id": "1cb28528-dfb6-4699-907a-99810caa554d",
   "metadata": {
    "jp-MarkdownHeadingCollapsed": true
   },
   "source": [
    "# Indexing"
   ]
  },
  {
   "cell_type": "code",
   "execution_count": 3,
   "id": "3d57c44f-f621-4147-b86d-81de48a16b2b",
   "metadata": {},
   "outputs": [
    {
     "name": "stdout",
     "output_type": "stream",
     "text": [
      "2\n",
      "4\n"
     ]
    }
   ],
   "source": [
    "import numpy as np\n",
    "a = np.array([1, 2, 3, 4])\n",
    "print(a[1])\n",
    "print(a[-1])"
   ]
  },
  {
   "cell_type": "code",
   "execution_count": 6,
   "id": "553a577f-f8e6-4d32-8591-b09625336412",
   "metadata": {},
   "outputs": [
    {
     "name": "stdout",
     "output_type": "stream",
     "text": [
      "2\n",
      "8\n"
     ]
    }
   ],
   "source": [
    "a = np.array([[1,2,3,4,5], [6,7,8,9,10]])\n",
    "print(a[0, 1])\n",
    "print(a[-1, -3])"
   ]
  },
  {
   "cell_type": "code",
   "execution_count": 8,
   "id": "a87507f3-e4a8-4c88-8e37-5d19a623c504",
   "metadata": {},
   "outputs": [
    {
     "name": "stdout",
     "output_type": "stream",
     "text": [
      "6\n",
      "4\n"
     ]
    }
   ],
   "source": [
    "arr = np.array([[[1, 2, 3], [4, 5, 6]], [[7, 8, 9], [10, 11, 12]]])\n",
    "print(arr[0, 1, 2])\n",
    "print(arr[-2,-1,0])"
   ]
  },
  {
   "cell_type": "markdown",
   "id": "a4c9cce1-9a12-4eef-90d4-675ae11d935c",
   "metadata": {
    "jp-MarkdownHeadingCollapsed": true
   },
   "source": [
    "# Slicing"
   ]
  },
  {
   "cell_type": "code",
   "execution_count": 13,
   "id": "caf6ce54-d634-4efb-afcb-721d82bc8f07",
   "metadata": {},
   "outputs": [
    {
     "name": "stdout",
     "output_type": "stream",
     "text": [
      "[2 3 4 5]\n",
      "[5 6]\n",
      "[2 4 6]\n"
     ]
    }
   ],
   "source": [
    "arr = np.array([1, 2, 3, 4, 5, 6, 7])\n",
    "print(arr[1:5])\n",
    "print(arr[-3:-1])\n",
    "print(arr[1:6:2])"
   ]
  },
  {
   "cell_type": "code",
   "execution_count": 15,
   "id": "9aff276b-8b6c-4362-8f9e-2a1e3f0bc6d1",
   "metadata": {},
   "outputs": [
    {
     "name": "stdout",
     "output_type": "stream",
     "text": [
      "[7 8 9]\n",
      "[113  14]\n"
     ]
    }
   ],
   "source": [
    "arr = np.array([[1, 2, 3, 4, 5], [6, 7, 8, 9, 10],[11,12,113,14,15]])\n",
    "print(arr[1, 1:4])\n",
    "print(arr[2, 2:4])"
   ]
  },
  {
   "cell_type": "markdown",
   "id": "744e5639-7ff0-44ac-97b4-a32f1d3187c3",
   "metadata": {
    "jp-MarkdownHeadingCollapsed": true
   },
   "source": [
    "# Iteration"
   ]
  },
  {
   "cell_type": "code",
   "execution_count": 16,
   "id": "f2f8cdf3-3a0c-4af6-98b4-e68d7b598966",
   "metadata": {},
   "outputs": [
    {
     "name": "stdout",
     "output_type": "stream",
     "text": [
      "1\n",
      "2\n",
      "3\n"
     ]
    }
   ],
   "source": [
    "arr = np.array([1, 2, 3])\n",
    "for x in arr:\n",
    "  print(x)"
   ]
  },
  {
   "cell_type": "code",
   "execution_count": 21,
   "id": "9989263a-4180-4be6-82c0-2fbb67010660",
   "metadata": {},
   "outputs": [
    {
     "name": "stdout",
     "output_type": "stream",
     "text": [
      "[[1 2 3]\n",
      " [4 5 6]]\n",
      "\n",
      "[1 2 3]\n",
      "[4 5 6]\n",
      "\n",
      "1\n",
      "2\n",
      "3\n",
      "4\n",
      "5\n",
      "6\n"
     ]
    }
   ],
   "source": [
    "arr = np.array([[1, 2, 3], [4, 5, 6]])\n",
    "print(arr)\n",
    "print()\n",
    "for x in arr:\n",
    "  print(x)\n",
    "print()\n",
    "for i in arr:\n",
    "    for j in i:\n",
    "        print(j)"
   ]
  },
  {
   "cell_type": "code",
   "execution_count": 30,
   "id": "bddce8aa-f4f3-4475-bbe5-467fc068cb9c",
   "metadata": {
    "scrolled": true
   },
   "outputs": [
    {
     "name": "stdout",
     "output_type": "stream",
     "text": [
      "[[[ 1  2  3]\n",
      "  [ 4  5  6]]\n",
      "\n",
      " [[ 7  8  9]\n",
      "  [10 11 12]]]\n",
      "\n",
      "1\n",
      "2\n",
      "3\n",
      "4\n",
      "5\n",
      "6\n",
      "7\n",
      "8\n",
      "9\n",
      "10\n",
      "11\n",
      "12\n"
     ]
    }
   ],
   "source": [
    "arr = np.array([[[1, 2, 3], [4, 5, 6]], [[7, 8, 9], [10, 11, 12]]])\n",
    "print(arr)\n",
    "print()\n",
    "for x in arr:\n",
    "    for y in x:\n",
    "        for z in y:\n",
    "            print(z)"
   ]
  },
  {
   "cell_type": "markdown",
   "id": "02e53537-82da-44cf-a8a1-a1c479c2f810",
   "metadata": {
    "jp-MarkdownHeadingCollapsed": true
   },
   "source": [
    "## Iterating through function => nditer()"
   ]
  },
  {
   "cell_type": "code",
   "execution_count": 31,
   "id": "7e721b52-0ce6-4f2a-9826-5cdaa29074cf",
   "metadata": {},
   "outputs": [
    {
     "name": "stdout",
     "output_type": "stream",
     "text": [
      "1\n",
      "2\n",
      "3\n",
      "4\n",
      "5\n",
      "6\n",
      "7\n",
      "8\n",
      "9\n",
      "10\n",
      "11\n",
      "12\n"
     ]
    }
   ],
   "source": [
    "arr = np.array([[[1, 2, 3], [4, 5, 6]], [[7, 8, 9], [10, 11, 12]]])\n",
    "for i in np.nditer(arr):\n",
    "    print(i)"
   ]
  },
  {
   "cell_type": "code",
   "execution_count": 42,
   "id": "6ca844a2-c7ae-4ad7-b4e0-29c45a3eb3c1",
   "metadata": {},
   "outputs": [
    {
     "name": "stdout",
     "output_type": "stream",
     "text": [
      "b'1'\n",
      "b'2'\n",
      "b'3'\n",
      "b'4'\n",
      "b'5'\n"
     ]
    }
   ],
   "source": [
    "arr = np.array([1, 2, 3,4,5])\n",
    "# for i in np.nditer(arr):\n",
    "    # print(i)\n",
    "for x in np.nditer(arr, flags=['buffered'], op_dtypes=['S']):\n",
    "  print(x)"
   ]
  },
  {
   "cell_type": "code",
   "execution_count": 38,
   "id": "561608d0-7e64-45d7-b1b0-60228f6ae98c",
   "metadata": {},
   "outputs": [
    {
     "name": "stdout",
     "output_type": "stream",
     "text": [
      "(0,) 1\n",
      "(1,) 2\n",
      "(2,) 3\n",
      "\n",
      "(0, 0, 0) 1\n",
      "(0, 0, 1) 2\n",
      "(0, 0, 2) 3\n",
      "(0, 1, 0) 4\n",
      "(0, 1, 1) 5\n",
      "(0, 1, 2) 6\n",
      "(1, 0, 0) 7\n",
      "(1, 0, 1) 8\n",
      "(1, 0, 2) 9\n",
      "(1, 1, 0) 10\n",
      "(1, 1, 1) 11\n",
      "(1, 1, 2) 12\n"
     ]
    }
   ],
   "source": [
    "arr = np.array([1, 2, 3])\n",
    "for idx,x in np.ndenumerate(arr):\n",
    "  print(idx, x)\n",
    "print()\n",
    "a = np.array([[[1, 2, 3], [4, 5, 6]], [[7, 8, 9], [10, 11, 12]]])\n",
    "for i,n in np.ndenumerate(a):\n",
    "    print(i,n)"
   ]
  },
  {
   "cell_type": "markdown",
   "id": "7fcb3d17-14da-448b-959b-9caf0711c9e5",
   "metadata": {
    "jp-MarkdownHeadingCollapsed": true
   },
   "source": [
    "# Copy & View"
   ]
  },
  {
   "cell_type": "code",
   "execution_count": 43,
   "id": "34be66c7-ee87-4969-8975-3840cfc47d94",
   "metadata": {},
   "outputs": [
    {
     "name": "stdout",
     "output_type": "stream",
     "text": [
      "[42  2  3  4  5]\n",
      "[1 2 3 4 5]\n"
     ]
    }
   ],
   "source": [
    "# Copy\n",
    "arr = np.array([1, 2, 3, 4, 5])\n",
    "x = arr.copy()\n",
    "arr[0] = 42\n",
    "print(arr)\n",
    "print(x)"
   ]
  },
  {
   "cell_type": "code",
   "execution_count": 45,
   "id": "a9207139-8db3-402d-97ed-76d3953b9cbb",
   "metadata": {},
   "outputs": [
    {
     "name": "stdout",
     "output_type": "stream",
     "text": [
      "[ 1  2 42  4  5]\n",
      "[ 1  2 42  4  5]\n"
     ]
    }
   ],
   "source": [
    "# View\n",
    "arr = np.array([1, 2, 3, 4, 5])\n",
    "x = arr.view()\n",
    "arr[2] = 42\n",
    "print(arr)\n",
    "print(x)"
   ]
  },
  {
   "cell_type": "markdown",
   "id": "9ca14c7a-903c-4128-9092-120729a2c5b8",
   "metadata": {
    "jp-MarkdownHeadingCollapsed": true
   },
   "source": [
    "# Join & Spilt "
   ]
  },
  {
   "cell_type": "code",
   "execution_count": 4,
   "id": "1d6b4763-f531-4965-aa25-1fcdf2cbc481",
   "metadata": {},
   "outputs": [
    {
     "name": "stdout",
     "output_type": "stream",
     "text": [
      "[1 2 3 4 5]\n"
     ]
    }
   ],
   "source": [
    "import numpy as np\n",
    "arr1=np.array([1, 2, 3])\n",
    "arr2=np.array([4, 5])\n",
    "arr=np.concatenate((arr1, arr2))\n",
    "print(arr)"
   ]
  },
  {
   "cell_type": "code",
   "execution_count": 7,
   "id": "9a289e52-02fc-4f01-ba8d-256c3428dd2e",
   "metadata": {},
   "outputs": [
    {
     "name": "stdout",
     "output_type": "stream",
     "text": [
      "[[1 2 5 6]\n",
      " [3 4 7 8]]\n"
     ]
    }
   ],
   "source": [
    "arr1 = np.array([[1, 2], [3, 4]])\n",
    "arr2 = np.array([[5, 6], [7, 8]])\n",
    "# axis=0 -> row || axis=1 -> caol\n",
    "arr = np.concatenate((arr1, arr2), axis=1)\n",
    "print(arr)"
   ]
  },
  {
   "cell_type": "markdown",
   "id": "93d07186-968d-427b-b623-cde4b11b0dad",
   "metadata": {
    "jp-MarkdownHeadingCollapsed": true
   },
   "source": [
    "## Join With Stack Function"
   ]
  },
  {
   "cell_type": "code",
   "execution_count": 11,
   "id": "70c9be1b-22df-4335-b9be-4cb3730a181f",
   "metadata": {},
   "outputs": [
    {
     "name": "stdout",
     "output_type": "stream",
     "text": [
      "[[1 4]\n",
      " [2 5]\n",
      " [3 6]]\n"
     ]
    }
   ],
   "source": [
    "arr1 = np.array([1, 2, 3])\n",
    "arr2 = np.array([4, 5, 6])\n",
    "arr = np.stack((arr1, arr2), axis=1)\n",
    "# arr = np.hstack((arr1, arr2))\n",
    "# arr = np.vstack((arr1, arr2))\n",
    "# arr = np.dstack((arr1, arr2))\n",
    "print(arr)\n"
   ]
  },
  {
   "cell_type": "markdown",
   "id": "4cf8e959-55fd-4b41-8865-291d389dca2a",
   "metadata": {
    "jp-MarkdownHeadingCollapsed": true
   },
   "source": [
    "## Split "
   ]
  },
  {
   "cell_type": "code",
   "execution_count": 14,
   "id": "e2ef7ef0-b64b-404d-9284-51570018b69e",
   "metadata": {},
   "outputs": [
    {
     "name": "stdout",
     "output_type": "stream",
     "text": [
      "[array([1, 2]), array([3, 4]), array([5, 6])]\n"
     ]
    }
   ],
   "source": [
    "arr = np.array([1, 2, 3, 4, 5, 6])\n",
    "newarr = np.array_split(arr, 3)\n",
    "print(newarr)"
   ]
  },
  {
   "cell_type": "code",
   "execution_count": 15,
   "id": "42fd1c15-4a28-4b7d-8dec-37b7709b67c6",
   "metadata": {},
   "outputs": [
    {
     "name": "stdout",
     "output_type": "stream",
     "text": [
      "[array([[1, 2],\n",
      "       [3, 4]]), array([[5, 6],\n",
      "       [7, 8]]), array([[ 9, 10],\n",
      "       [11, 12]])]\n"
     ]
    }
   ],
   "source": [
    "arr = np.array([[1, 2], [3, 4], [5, 6], [7, 8], [9, 10], [11, 12]])\n",
    "newarr = np.array_split(arr, 3)\n",
    "print(newarr)"
   ]
  },
  {
   "cell_type": "markdown",
   "id": "384ac753-c87e-400b-b644-d5aca41e696c",
   "metadata": {
    "jp-MarkdownHeadingCollapsed": true
   },
   "source": [
    "# Seraching "
   ]
  },
  {
   "cell_type": "code",
   "execution_count": 2,
   "id": "760dbcf6-6360-4c0a-bc3d-cf777698596c",
   "metadata": {},
   "outputs": [
    {
     "name": "stdout",
     "output_type": "stream",
     "text": [
      "(array([3, 5, 6], dtype=int64),)\n"
     ]
    }
   ],
   "source": [
    "import numpy as np\n",
    "arr = np.array([1, 2, 3, 4, 5, 4, 4])\n",
    "x = np.where(arr == 4)\n",
    "print(x)"
   ]
  },
  {
   "cell_type": "code",
   "execution_count": 5,
   "id": "be225e5f-6dc4-4061-975b-4886dcf4e95d",
   "metadata": {},
   "outputs": [
    {
     "name": "stdout",
     "output_type": "stream",
     "text": [
      "4\n"
     ]
    }
   ],
   "source": [
    "# Search Sorted\n",
    "import numpy as np\n",
    "arr = np.array([6, 7, 8, 9])\n",
    "x = np.searchsorted(arr, 10)\n",
    "print(x)"
   ]
  },
  {
   "cell_type": "markdown",
   "id": "c68109e2-7958-4f7f-af9d-f42516365760",
   "metadata": {
    "jp-MarkdownHeadingCollapsed": true
   },
   "source": [
    "# Sort"
   ]
  },
  {
   "cell_type": "code",
   "execution_count": 9,
   "id": "202c4738-6cc5-4f07-95b3-5299b5282239",
   "metadata": {},
   "outputs": [
    {
     "name": "stdout",
     "output_type": "stream",
     "text": [
      "[0 1 2 3]\n",
      "['apple' 'banana' 'cherry']\n",
      "['a' 'c' 'g' 'i' 'x' 'z']\n"
     ]
    }
   ],
   "source": [
    "import numpy as np\n",
    "arr = np.array([3, 2, 0, 1])\n",
    "print(np.sort(arr))\n",
    "a = np.array(['banana', 'cherry', 'apple'])\n",
    "print(np.sort(a))\n",
    "b = np.array(['z', 'g', 'a','i', 'x', 'c',])\n",
    "print(np.sort(b))"
   ]
  },
  {
   "cell_type": "code",
   "execution_count": 11,
   "id": "fb3382c2-7da3-42f1-b660-59d7d30cb3b3",
   "metadata": {},
   "outputs": [
    {
     "name": "stdout",
     "output_type": "stream",
     "text": [
      "[[2 3 4]\n",
      " [0 1 5]\n",
      " [1 7 9]]\n"
     ]
    }
   ],
   "source": [
    "arr = np.array([[3, 2, 4], [5, 0, 1],[9,1,7]])\n",
    "print(np.sort(arr))"
   ]
  },
  {
   "cell_type": "markdown",
   "id": "7b857f76-583c-4b88-8f91-a1a54ada7b54",
   "metadata": {
    "jp-MarkdownHeadingCollapsed": true
   },
   "source": [
    "# Filter"
   ]
  },
  {
   "cell_type": "code",
   "execution_count": 13,
   "id": "b98316b4-e087-47ec-93be-ef8f55da6011",
   "metadata": {},
   "outputs": [
    {
     "name": "stdout",
     "output_type": "stream",
     "text": [
      "[41 43]\n",
      "<class 'numpy.ndarray'>\n"
     ]
    }
   ],
   "source": [
    "import numpy as np\n",
    "arr = np.array([41, 42, 43, 44])\n",
    "x = [True, False, True, False]\n",
    "newarr = arr[x]\n",
    "print(newarr)\n",
    "print(type(newarr))"
   ]
  },
  {
   "cell_type": "markdown",
   "id": "ad3e7c26-c2dc-4a42-8cf7-9b9c1528cba8",
   "metadata": {
    "jp-MarkdownHeadingCollapsed": true
   },
   "source": [
    "# Arithmetic Function"
   ]
  },
  {
   "cell_type": "code",
   "execution_count": 14,
   "id": "7e261213-5fb3-4cda-b2f1-ce5274703ed2",
   "metadata": {},
   "outputs": [
    {
     "name": "stdout",
     "output_type": "stream",
     "text": [
      "[3 5 1 2 4]\n"
     ]
    }
   ],
   "source": [
    "# Shuffle\n",
    "import numpy as np\n",
    "a=np.array([1,2,3,4,5])\n",
    "np.random.shuffle(a)\n",
    "print(a)"
   ]
  },
  {
   "cell_type": "code",
   "execution_count": 22,
   "id": "df0e1462-db82-4ac5-8e03-437c62dc9b6b",
   "metadata": {},
   "outputs": [
    {
     "name": "stdout",
     "output_type": "stream",
     "text": [
      "(array([1, 2, 3, 4, 5]), array([1, 3, 3, 1, 2], dtype=int64))\n"
     ]
    }
   ],
   "source": [
    "# Unique\n",
    "import numpy as np\n",
    "a=np.array([1,2,2,2,3,3,3,4,5,5])\n",
    "b=np.unique(a)\n",
    "# b=np.unique(a,return_index=True) # return index also\n",
    "# b=np.unique(a,return_counts=True) # return count also\n",
    "print(b)"
   ]
  },
  {
   "cell_type": "code",
   "execution_count": 26,
   "id": "4316cc62-4e94-468b-ab49-ecd4053f936f",
   "metadata": {},
   "outputs": [
    {
     "name": "stdout",
     "output_type": "stream",
     "text": [
      "[[1 2 3]\n",
      " [4 5 6]]\n"
     ]
    }
   ],
   "source": [
    "# resize\n",
    "a=np.array([1,2,3,4,5,6])\n",
    "x=np.resize(a,(2,3))\n",
    "# y=np.resize(a,(3,2))\n",
    "print(x)\n",
    "# print(y)"
   ]
  },
  {
   "cell_type": "markdown",
   "id": "4967500f-eb16-46d6-9948-ddb3d52ba1dc",
   "metadata": {
    "jp-MarkdownHeadingCollapsed": true
   },
   "source": [
    "# Insert"
   ]
  },
  {
   "cell_type": "code",
   "execution_count": 33,
   "id": "f6276bd9-d9c8-4eef-9e01-81f8a741de5b",
   "metadata": {},
   "outputs": [
    {
     "name": "stdout",
     "output_type": "stream",
     "text": [
      "[4 1 2 3 5 6]\n",
      "[1 2 3 5 6 3]\n"
     ]
    }
   ],
   "source": [
    "import numpy as np\n",
    "a=np.array([1,2,3,5,6])\n",
    "a=np.insert(a,0,4)\n",
    "print(a)\n",
    "b=np.array([1,2,5,6])\n",
    "v=np.insert(b,(2,4),3)\n",
    "print(v)"
   ]
  },
  {
   "cell_type": "code",
   "execution_count": 45,
   "id": "825c9a04-875f-4779-99ad-6364d15844f9",
   "metadata": {},
   "outputs": [
    {
     "name": "stdout",
     "output_type": "stream",
     "text": [
      "[[1 2 4 3]\n",
      " [4 5 4 6]]\n"
     ]
    }
   ],
   "source": [
    "import numpy as np\n",
    "a=np.array([[1,2,3],[4,5,6]])\n",
    "# b=np.insert(a,2,4,axis=0)\n",
    "b=np.insert(a,2,4,axis=1)\n",
    "# b=np.insert(a,2,[100,2000,300],axis=0)\n",
    "print(b)"
   ]
  },
  {
   "cell_type": "markdown",
   "id": "95be1e5f-bdeb-4315-82d3-38698eade478",
   "metadata": {
    "jp-MarkdownHeadingCollapsed": true
   },
   "source": [
    "# Delete"
   ]
  },
  {
   "cell_type": "code",
   "execution_count": 49,
   "id": "04361014-4902-4491-b267-b82debd20b4f",
   "metadata": {},
   "outputs": [
    {
     "name": "stdout",
     "output_type": "stream",
     "text": [
      "[1 2 3 4 5 6]\n"
     ]
    }
   ],
   "source": [
    "import numpy as np\n",
    "a=np.array([1,2,3,4,9,5,6])\n",
    "a=np.delete(a,4)\n",
    "print(a)"
   ]
  },
  {
   "cell_type": "markdown",
   "id": "50f82884-a589-4f0b-9aa2-88c38e5f9044",
   "metadata": {
    "jp-MarkdownHeadingCollapsed": true
   },
   "source": [
    "# Matrix"
   ]
  },
  {
   "cell_type": "markdown",
   "id": "4dccef27-9dd3-4832-9eec-270fe8de8472",
   "metadata": {
    "jp-MarkdownHeadingCollapsed": true
   },
   "source": [
    "## Creating a Matrix"
   ]
  },
  {
   "cell_type": "code",
   "execution_count": 51,
   "id": "5915df5b-1cec-4b94-b505-7383b3136e5b",
   "metadata": {},
   "outputs": [
    {
     "name": "stdout",
     "output_type": "stream",
     "text": [
      "[[1 2 3]\n",
      " [4 5 6]]\n",
      "<class 'numpy.matrix'>\n"
     ]
    }
   ],
   "source": [
    "import numpy as np\n",
    "a=np.matrix([[1,2,3],[4,5,6]])\n",
    "print(a)\n",
    "print(type(a))"
   ]
  },
  {
   "cell_type": "markdown",
   "id": "86957a7f-09b2-4f8b-8a44-f30f3f7e7c90",
   "metadata": {
    "jp-MarkdownHeadingCollapsed": true
   },
   "source": [
    "## Addition in Matrix"
   ]
  },
  {
   "cell_type": "code",
   "execution_count": 52,
   "id": "1fff322a-77b3-46f7-992e-5f92800c0f2b",
   "metadata": {},
   "outputs": [
    {
     "name": "stdout",
     "output_type": "stream",
     "text": [
      "[[ 2  4  6]\n",
      " [ 8 10 12]]\n"
     ]
    }
   ],
   "source": [
    "# same as 2-D array\n",
    "a=np.matrix([[1,2,3],[4,5,6]])\n",
    "b=np.matrix([[1,2,3],[4,5,6]])\n",
    "print(a+b)"
   ]
  },
  {
   "cell_type": "markdown",
   "id": "92c59db8-8391-460e-bf1b-46ad9d327bd4",
   "metadata": {
    "jp-MarkdownHeadingCollapsed": true
   },
   "source": [
    "## Multiplication in Matrix"
   ]
  },
  {
   "cell_type": "code",
   "execution_count": 56,
   "id": "fc91ab70-933c-4f06-a502-77be49a5d4f1",
   "metadata": {},
   "outputs": [
    {
     "name": "stdout",
     "output_type": "stream",
     "text": [
      "[[ 9 12]\n",
      " [24 33]]\n"
     ]
    }
   ],
   "source": [
    "a=np.matrix([[1,2],[4,5]])\n",
    "b=np.matrix([[1,2],[4,5]])\n",
    "# print(a*b)\n",
    "print(a.dot(b))"
   ]
  },
  {
   "cell_type": "markdown",
   "id": "6941f6ba-9b32-4d68-b8a7-82f401e824ec",
   "metadata": {
    "jp-MarkdownHeadingCollapsed": true
   },
   "source": [
    "## Transpose"
   ]
  },
  {
   "cell_type": "code",
   "execution_count": 58,
   "id": "a06066ca-6ae0-416f-a9e0-88a40244d78d",
   "metadata": {},
   "outputs": [
    {
     "name": "stdout",
     "output_type": "stream",
     "text": [
      "[[1 2 3]\n",
      " [4 5 6]]\n",
      "[[1 4]\n",
      " [2 5]\n",
      " [3 6]]\n"
     ]
    }
   ],
   "source": [
    "import numpy as np\n",
    "a=np.matrix([[1,2,3],[4,5,6]])\n",
    "print(a)\n",
    "print(np.transpose(a))"
   ]
  },
  {
   "cell_type": "markdown",
   "id": "cda13be5-6c08-4095-bdf8-1994e2ab154d",
   "metadata": {
    "jp-MarkdownHeadingCollapsed": true
   },
   "source": [
    "## Swapaxes"
   ]
  },
  {
   "cell_type": "code",
   "execution_count": 62,
   "id": "4fcbea2e-645a-41d7-88b5-867e325e8425",
   "metadata": {},
   "outputs": [
    {
     "name": "stdout",
     "output_type": "stream",
     "text": [
      "[[1 2 3]\n",
      " [4 5 6]]\n",
      "[[1 4]\n",
      " [2 5]\n",
      " [3 6]]\n"
     ]
    }
   ],
   "source": [
    "a=np.matrix([[1,2,3],[4,5,6]])\n",
    "print(a)\n",
    "print(np.swapaxes(a,0,1))"
   ]
  },
  {
   "cell_type": "markdown",
   "id": "1639401a-9dc7-4f49-88fa-66cee811ce97",
   "metadata": {
    "jp-MarkdownHeadingCollapsed": true
   },
   "source": [
    "## Inverse"
   ]
  },
  {
   "cell_type": "code",
   "execution_count": 65,
   "id": "1b431759-ccd2-4928-9884-7ae72d12f36b",
   "metadata": {},
   "outputs": [
    {
     "name": "stdout",
     "output_type": "stream",
     "text": [
      "[[1 2]\n",
      " [3 4]]\n",
      "[[-2.   1. ]\n",
      " [ 1.5 -0.5]]\n"
     ]
    }
   ],
   "source": [
    "a=np.matrix([[1,2],[3,4]])\n",
    "print(a)\n",
    "print(np.linalg.inv(a))"
   ]
  },
  {
   "cell_type": "markdown",
   "id": "5383ee54-8e0f-4217-9f26-f755ff4c6757",
   "metadata": {
    "jp-MarkdownHeadingCollapsed": true
   },
   "source": [
    "## Power"
   ]
  },
  {
   "cell_type": "code",
   "execution_count": 67,
   "id": "c00783dc-d2d4-4f72-a508-85eb0de885b5",
   "metadata": {},
   "outputs": [
    {
     "name": "stdout",
     "output_type": "stream",
     "text": [
      "[[ 7 10]\n",
      " [15 22]]\n",
      "[[1 0]\n",
      " [0 1]]\n",
      "[[ 5.5  -2.5 ]\n",
      " [-3.75  1.75]]\n"
     ]
    }
   ],
   "source": [
    "a=np.matrix([[1,2],[3,4]])\n",
    "print(np.linalg.matrix_power(a,2))\n",
    "print(np.linalg.matrix_power(a,0))\n",
    "print(np.linalg.matrix_power(a,-2))"
   ]
  },
  {
   "cell_type": "markdown",
   "id": "4174e4c6-37bb-49da-9be3-16c713a46dbc",
   "metadata": {
    "jp-MarkdownHeadingCollapsed": true
   },
   "source": [
    "## Determinant"
   ]
  },
  {
   "cell_type": "code",
   "execution_count": 68,
   "id": "734f5535-dcc5-4797-b24d-24bcec4995d2",
   "metadata": {},
   "outputs": [
    {
     "name": "stdout",
     "output_type": "stream",
     "text": [
      "-2.0000000000000004\n"
     ]
    }
   ],
   "source": [
    "a=np.matrix([[1,2],[3,4]])\n",
    "print(np.linalg.det(a))"
   ]
  },
  {
   "cell_type": "markdown",
   "id": "3c0f04ee-a511-4ca8-8851-6bdc3e58dac5",
   "metadata": {
    "jp-MarkdownHeadingCollapsed": true
   },
   "source": [
    "# Statistical Function in Numpy"
   ]
  },
  {
   "cell_type": "markdown",
   "id": "c922fb46-7154-44a9-99e6-501ff2d02069",
   "metadata": {
    "jp-MarkdownHeadingCollapsed": true
   },
   "source": [
    "## Calculating Median, Mean, Standard Deviation, and Variance in the Array"
   ]
  },
  {
   "cell_type": "code",
   "execution_count": 5,
   "id": "68b50ffb-9eed-442f-98b5-6ccfce3f5a92",
   "metadata": {},
   "outputs": [
    {
     "name": "stdout",
     "output_type": "stream",
     "text": [
      "4.0\n",
      "6.333333333333333\n",
      "6.944222218666553\n",
      "48.22222222222222\n"
     ]
    }
   ],
   "source": [
    "import numpy as np\n",
    "# Median\n",
    "array = np.array([[4,3,2],[10,1,0],[5,8,24]])\n",
    "np.median(array)\n",
    "print(np.median(array))\n",
    "# Mean\n",
    "np.mean(array)\n",
    "print(np.mean(array))\n",
    "# Standard Deviation\n",
    "np.std(array)\n",
    "print(np.std(array))\n",
    "# Variance\n",
    "np.var(array)\n",
    "print(np.var(array))"
   ]
  },
  {
   "cell_type": "markdown",
   "id": "2377427a-b146-46f1-abdd-bcac1a050334",
   "metadata": {},
   "source": [
    "## Calculating Percentiles"
   ]
  },
  {
   "cell_type": "code",
   "execution_count": 12,
   "id": "38d06598-045b-4d6c-89bd-658cff312ab8",
   "metadata": {},
   "outputs": [
    {
     "data": {
      "text/plain": [
       "4.0"
      ]
     },
     "execution_count": 12,
     "metadata": {},
     "output_type": "execute_result"
    }
   ],
   "source": [
    "array = np.array([[4,3,2],[10,1,0],[5,8,24]])\n",
    "np.percentile(array,50)"
   ]
  },
  {
   "cell_type": "code",
   "execution_count": null,
   "id": "76648985-396b-4350-8444-204d98e6b886",
   "metadata": {},
   "outputs": [],
   "source": []
  }
 ],
 "metadata": {
  "kernelspec": {
   "display_name": "Python 3 (ipykernel)",
   "language": "python",
   "name": "python3"
  },
  "language_info": {
   "codemirror_mode": {
    "name": "ipython",
    "version": 3
   },
   "file_extension": ".py",
   "mimetype": "text/x-python",
   "name": "python",
   "nbconvert_exporter": "python",
   "pygments_lexer": "ipython3",
   "version": "3.11.7"
  }
 },
 "nbformat": 4,
 "nbformat_minor": 5
}
